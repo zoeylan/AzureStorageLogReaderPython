{
 "cells": [
  {
   "cell_type": "code",
   "execution_count": 4,
   "id": "fbe41d1d",
   "metadata": {},
   "outputs": [],
   "source": [
    "## Import needed modules ##\n",
    "\n",
    "import pandas as pd\n",
    "import os "
   ]
  },
  {
   "cell_type": "code",
   "execution_count": 5,
   "id": "9aa6e022",
   "metadata": {},
   "outputs": [],
   "source": [
    "## Set the log header ##\n",
    "## Below is Log entry format 2.0 ##\n",
    "## You can find header in this document: https://docs.microsoft.com/en-us/rest/api/storageservices/storage-analytics-log-format ##\n",
    "\n",
    "header=['<version-number>', '<request-start-time>', '<operation-type>',\n",
    "       '<request-status>', '<http-status-code>', '<end-to-end-latency-in-ms>',\n",
    "       '<server-latency-in-ms>', '<authentication-type>',\n",
    "       '<requester-account-name>', '<owner-account-name>', '<service-type>',\n",
    "       '<request-url>', '<requested-object-key>', '<request-id-header>',\n",
    "       '<operation-count>', '<requester-ip-address>',\n",
    "       '<request-version-header>', '<request-header-size>',\n",
    "       '<request-packet-size>', '<response-header-size>',\n",
    "       '<response-packet-size>', '<request-content-length>', '<request-md5>',\n",
    "       '<server-md5>', '<etag-identifier>', '<last-modified-time>',\n",
    "       '<conditions-used>', '<user-agent-header>', '<referrer-header>',\n",
    "       '<client-request-id>', '<user-object-id>', '<tenant-id>',\n",
    "       '<application-id>', '<audience>', '<issuer>', '<user-principal-name>',\n",
    "       '<reserved-field>', '<authorization-detail>']"
   ]
  },
  {
   "cell_type": "code",
   "execution_count": 6,
   "id": "fd59e30f",
   "metadata": {},
   "outputs": [
    {
     "name": "stdout",
     "output_type": "stream",
     "text": [
      "['C:\\\\Users\\\\zoeylan\\\\AAA_Zoey_Working\\\\Logs\\\\0000\\\\0000', 'C:\\\\Users\\\\zoeylan\\\\AAA_Zoey_Working\\\\Logs\\\\0000\\\\0100', 'C:\\\\Users\\\\zoeylan\\\\AAA_Zoey_Working\\\\Logs\\\\0000\\\\0200', 'C:\\\\Users\\\\zoeylan\\\\AAA_Zoey_Working\\\\Logs\\\\0000\\\\0300', 'C:\\\\Users\\\\zoeylan\\\\AAA_Zoey_Working\\\\Logs\\\\0000\\\\0400', 'C:\\\\Users\\\\zoeylan\\\\AAA_Zoey_Working\\\\Logs\\\\0000\\\\0500', 'C:\\\\Users\\\\zoeylan\\\\AAA_Zoey_Working\\\\Logs\\\\0600\\\\0600', 'C:\\\\Users\\\\zoeylan\\\\AAA_Zoey_Working\\\\Logs\\\\0600\\\\0700', 'C:\\\\Users\\\\zoeylan\\\\AAA_Zoey_Working\\\\Logs\\\\0600\\\\0800', 'C:\\\\Users\\\\zoeylan\\\\AAA_Zoey_Working\\\\Logs\\\\0600\\\\0900', 'C:\\\\Users\\\\zoeylan\\\\AAA_Zoey_Working\\\\Logs\\\\0600\\\\1000', 'C:\\\\Users\\\\zoeylan\\\\AAA_Zoey_Working\\\\Logs\\\\0600\\\\1100', 'C:\\\\Users\\\\zoeylan\\\\AAA_Zoey_Working\\\\Logs\\\\1200\\\\1200', 'C:\\\\Users\\\\zoeylan\\\\AAA_Zoey_Working\\\\Logs\\\\1200\\\\1300', 'C:\\\\Users\\\\zoeylan\\\\AAA_Zoey_Working\\\\Logs\\\\1200\\\\1400', 'C:\\\\Users\\\\zoeylan\\\\AAA_Zoey_Working\\\\Logs\\\\1200\\\\1500', 'C:\\\\Users\\\\zoeylan\\\\AAA_Zoey_Working\\\\Logs\\\\1200\\\\1600', 'C:\\\\Users\\\\zoeylan\\\\AAA_Zoey_Working\\\\Logs\\\\1200\\\\1700', 'C:\\\\Users\\\\zoeylan\\\\AAA_Zoey_Working\\\\Logs\\\\1800\\\\1800', 'C:\\\\Users\\\\zoeylan\\\\AAA_Zoey_Working\\\\Logs\\\\1800\\\\1900', 'C:\\\\Users\\\\zoeylan\\\\AAA_Zoey_Working\\\\Logs\\\\1800\\\\2000', 'C:\\\\Users\\\\zoeylan\\\\AAA_Zoey_Working\\\\Logs\\\\1800\\\\2100', 'C:\\\\Users\\\\zoeylan\\\\AAA_Zoey_Working\\\\Logs\\\\1800\\\\2200', 'C:\\\\Users\\\\zoeylan\\\\AAA_Zoey_Working\\\\Logs\\\\1800\\\\2300']\n"
     ]
    }
   ],
   "source": [
    "## Read all the subfolders ##\n",
    "\n",
    "directory = \"C:\\\\Users\\\\zoeylan\\\\AAA_Zoey_Working\\\\Logs\\\\\"\n",
    "folder_list = []\n",
    "\n",
    "for root, subdirectories, files in os.walk(directory):\n",
    "    for subdirectory in subdirectories:\n",
    "        folder_list.append(os.path.join(root, subdirectory))\n",
    "folder_list = folder_list[4:]\n",
    "print(folder_list)"
   ]
  },
  {
   "cell_type": "code",
   "execution_count": 7,
   "id": "c253cdb2",
   "metadata": {},
   "outputs": [
    {
     "name": "stdout",
     "output_type": "stream",
     "text": [
      "[['C:\\\\Users\\\\zoeylan\\\\AAA_Zoey_Working\\\\Logs\\\\0000\\\\0000\\\\000000.log', 'C:\\\\Users\\\\zoeylan\\\\AAA_Zoey_Working\\\\Logs\\\\0000\\\\0000\\\\000001.log', 'C:\\\\Users\\\\zoeylan\\\\AAA_Zoey_Working\\\\Logs\\\\0000\\\\0000\\\\000002.log', 'C:\\\\Users\\\\zoeylan\\\\AAA_Zoey_Working\\\\Logs\\\\0000\\\\0000\\\\000003.log', 'C:\\\\Users\\\\zoeylan\\\\AAA_Zoey_Working\\\\Logs\\\\0000\\\\0000\\\\000004.log', 'C:\\\\Users\\\\zoeylan\\\\AAA_Zoey_Working\\\\Logs\\\\0000\\\\0000\\\\000005.log', 'C:\\\\Users\\\\zoeylan\\\\AAA_Zoey_Working\\\\Logs\\\\0000\\\\0000\\\\000006.log', 'C:\\\\Users\\\\zoeylan\\\\AAA_Zoey_Working\\\\Logs\\\\0000\\\\0000\\\\000007.log', 'C:\\\\Users\\\\zoeylan\\\\AAA_Zoey_Working\\\\Logs\\\\0000\\\\0000\\\\000008.log', 'C:\\\\Users\\\\zoeylan\\\\AAA_Zoey_Working\\\\Logs\\\\0000\\\\0000\\\\000009.log'], ['C:\\\\Users\\\\zoeylan\\\\AAA_Zoey_Working\\\\Logs\\\\0000\\\\0100\\\\000000.log', 'C:\\\\Users\\\\zoeylan\\\\AAA_Zoey_Working\\\\Logs\\\\0000\\\\0100\\\\000001.log', 'C:\\\\Users\\\\zoeylan\\\\AAA_Zoey_Working\\\\Logs\\\\0000\\\\0100\\\\000002.log', 'C:\\\\Users\\\\zoeylan\\\\AAA_Zoey_Working\\\\Logs\\\\0000\\\\0100\\\\000003.log', 'C:\\\\Users\\\\zoeylan\\\\AAA_Zoey_Working\\\\Logs\\\\0000\\\\0100\\\\000004.log', 'C:\\\\Users\\\\zoeylan\\\\AAA_Zoey_Working\\\\Logs\\\\0000\\\\0100\\\\000005.log', 'C:\\\\Users\\\\zoeylan\\\\AAA_Zoey_Working\\\\Logs\\\\0000\\\\0100\\\\000006.log', 'C:\\\\Users\\\\zoeylan\\\\AAA_Zoey_Working\\\\Logs\\\\0000\\\\0100\\\\000007.log', 'C:\\\\Users\\\\zoeylan\\\\AAA_Zoey_Working\\\\Logs\\\\0000\\\\0100\\\\000008.log', 'C:\\\\Users\\\\zoeylan\\\\AAA_Zoey_Working\\\\Logs\\\\0000\\\\0100\\\\000009.log', 'C:\\\\Users\\\\zoeylan\\\\AAA_Zoey_Working\\\\Logs\\\\0000\\\\0100\\\\000010.log', 'C:\\\\Users\\\\zoeylan\\\\AAA_Zoey_Working\\\\Logs\\\\0000\\\\0100\\\\000011.log', 'C:\\\\Users\\\\zoeylan\\\\AAA_Zoey_Working\\\\Logs\\\\0000\\\\0100\\\\000012.log', 'C:\\\\Users\\\\zoeylan\\\\AAA_Zoey_Working\\\\Logs\\\\0000\\\\0100\\\\000013.log', 'C:\\\\Users\\\\zoeylan\\\\AAA_Zoey_Working\\\\Logs\\\\0000\\\\0100\\\\000014.log', 'C:\\\\Users\\\\zoeylan\\\\AAA_Zoey_Working\\\\Logs\\\\0000\\\\0100\\\\000015.log', 'C:\\\\Users\\\\zoeylan\\\\AAA_Zoey_Working\\\\Logs\\\\0000\\\\0100\\\\000016.log'], ['C:\\\\Users\\\\zoeylan\\\\AAA_Zoey_Working\\\\Logs\\\\0000\\\\0200\\\\000000.log', 'C:\\\\Users\\\\zoeylan\\\\AAA_Zoey_Working\\\\Logs\\\\0000\\\\0200\\\\000001.log', 'C:\\\\Users\\\\zoeylan\\\\AAA_Zoey_Working\\\\Logs\\\\0000\\\\0200\\\\000002.log', 'C:\\\\Users\\\\zoeylan\\\\AAA_Zoey_Working\\\\Logs\\\\0000\\\\0200\\\\000003.log', 'C:\\\\Users\\\\zoeylan\\\\AAA_Zoey_Working\\\\Logs\\\\0000\\\\0200\\\\000004.log', 'C:\\\\Users\\\\zoeylan\\\\AAA_Zoey_Working\\\\Logs\\\\0000\\\\0200\\\\000005.log', 'C:\\\\Users\\\\zoeylan\\\\AAA_Zoey_Working\\\\Logs\\\\0000\\\\0200\\\\000006.log', 'C:\\\\Users\\\\zoeylan\\\\AAA_Zoey_Working\\\\Logs\\\\0000\\\\0200\\\\000007.log', 'C:\\\\Users\\\\zoeylan\\\\AAA_Zoey_Working\\\\Logs\\\\0000\\\\0200\\\\000008.log', 'C:\\\\Users\\\\zoeylan\\\\AAA_Zoey_Working\\\\Logs\\\\0000\\\\0200\\\\000009.log', 'C:\\\\Users\\\\zoeylan\\\\AAA_Zoey_Working\\\\Logs\\\\0000\\\\0200\\\\000010.log', 'C:\\\\Users\\\\zoeylan\\\\AAA_Zoey_Working\\\\Logs\\\\0000\\\\0200\\\\000011.log', 'C:\\\\Users\\\\zoeylan\\\\AAA_Zoey_Working\\\\Logs\\\\0000\\\\0200\\\\000012.log', 'C:\\\\Users\\\\zoeylan\\\\AAA_Zoey_Working\\\\Logs\\\\0000\\\\0200\\\\000013.log', 'C:\\\\Users\\\\zoeylan\\\\AAA_Zoey_Working\\\\Logs\\\\0000\\\\0200\\\\000014.log', 'C:\\\\Users\\\\zoeylan\\\\AAA_Zoey_Working\\\\Logs\\\\0000\\\\0200\\\\000015.log', 'C:\\\\Users\\\\zoeylan\\\\AAA_Zoey_Working\\\\Logs\\\\0000\\\\0200\\\\000016.log'], ['C:\\\\Users\\\\zoeylan\\\\AAA_Zoey_Working\\\\Logs\\\\0000\\\\0300\\\\000000.log', 'C:\\\\Users\\\\zoeylan\\\\AAA_Zoey_Working\\\\Logs\\\\0000\\\\0300\\\\000001.log', 'C:\\\\Users\\\\zoeylan\\\\AAA_Zoey_Working\\\\Logs\\\\0000\\\\0300\\\\000002.log', 'C:\\\\Users\\\\zoeylan\\\\AAA_Zoey_Working\\\\Logs\\\\0000\\\\0300\\\\000003.log', 'C:\\\\Users\\\\zoeylan\\\\AAA_Zoey_Working\\\\Logs\\\\0000\\\\0300\\\\000004.log', 'C:\\\\Users\\\\zoeylan\\\\AAA_Zoey_Working\\\\Logs\\\\0000\\\\0300\\\\000005.log', 'C:\\\\Users\\\\zoeylan\\\\AAA_Zoey_Working\\\\Logs\\\\0000\\\\0300\\\\000006.log', 'C:\\\\Users\\\\zoeylan\\\\AAA_Zoey_Working\\\\Logs\\\\0000\\\\0300\\\\000007.log', 'C:\\\\Users\\\\zoeylan\\\\AAA_Zoey_Working\\\\Logs\\\\0000\\\\0300\\\\000008.log', 'C:\\\\Users\\\\zoeylan\\\\AAA_Zoey_Working\\\\Logs\\\\0000\\\\0300\\\\000009.log', 'C:\\\\Users\\\\zoeylan\\\\AAA_Zoey_Working\\\\Logs\\\\0000\\\\0300\\\\000010.log', 'C:\\\\Users\\\\zoeylan\\\\AAA_Zoey_Working\\\\Logs\\\\0000\\\\0300\\\\000011.log', 'C:\\\\Users\\\\zoeylan\\\\AAA_Zoey_Working\\\\Logs\\\\0000\\\\0300\\\\000012.log', 'C:\\\\Users\\\\zoeylan\\\\AAA_Zoey_Working\\\\Logs\\\\0000\\\\0300\\\\000013.log', 'C:\\\\Users\\\\zoeylan\\\\AAA_Zoey_Working\\\\Logs\\\\0000\\\\0300\\\\000014.log', 'C:\\\\Users\\\\zoeylan\\\\AAA_Zoey_Working\\\\Logs\\\\0000\\\\0300\\\\000015.log', 'C:\\\\Users\\\\zoeylan\\\\AAA_Zoey_Working\\\\Logs\\\\0000\\\\0300\\\\000016.log', 'C:\\\\Users\\\\zoeylan\\\\AAA_Zoey_Working\\\\Logs\\\\0000\\\\0300\\\\000017.log', 'C:\\\\Users\\\\zoeylan\\\\AAA_Zoey_Working\\\\Logs\\\\0000\\\\0300\\\\000018.log', 'C:\\\\Users\\\\zoeylan\\\\AAA_Zoey_Working\\\\Logs\\\\0000\\\\0300\\\\000019.log'], ['C:\\\\Users\\\\zoeylan\\\\AAA_Zoey_Working\\\\Logs\\\\0000\\\\0400\\\\000000.log', 'C:\\\\Users\\\\zoeylan\\\\AAA_Zoey_Working\\\\Logs\\\\0000\\\\0400\\\\000001.log', 'C:\\\\Users\\\\zoeylan\\\\AAA_Zoey_Working\\\\Logs\\\\0000\\\\0400\\\\000002.log', 'C:\\\\Users\\\\zoeylan\\\\AAA_Zoey_Working\\\\Logs\\\\0000\\\\0400\\\\000003.log', 'C:\\\\Users\\\\zoeylan\\\\AAA_Zoey_Working\\\\Logs\\\\0000\\\\0400\\\\000004.log', 'C:\\\\Users\\\\zoeylan\\\\AAA_Zoey_Working\\\\Logs\\\\0000\\\\0400\\\\000005.log', 'C:\\\\Users\\\\zoeylan\\\\AAA_Zoey_Working\\\\Logs\\\\0000\\\\0400\\\\000006.log', 'C:\\\\Users\\\\zoeylan\\\\AAA_Zoey_Working\\\\Logs\\\\0000\\\\0400\\\\000007.log', 'C:\\\\Users\\\\zoeylan\\\\AAA_Zoey_Working\\\\Logs\\\\0000\\\\0400\\\\000008.log', 'C:\\\\Users\\\\zoeylan\\\\AAA_Zoey_Working\\\\Logs\\\\0000\\\\0400\\\\000009.log', 'C:\\\\Users\\\\zoeylan\\\\AAA_Zoey_Working\\\\Logs\\\\0000\\\\0400\\\\000010.log', 'C:\\\\Users\\\\zoeylan\\\\AAA_Zoey_Working\\\\Logs\\\\0000\\\\0400\\\\000011.log', 'C:\\\\Users\\\\zoeylan\\\\AAA_Zoey_Working\\\\Logs\\\\0000\\\\0400\\\\000012.log'], ['C:\\\\Users\\\\zoeylan\\\\AAA_Zoey_Working\\\\Logs\\\\0000\\\\0500\\\\000000.log', 'C:\\\\Users\\\\zoeylan\\\\AAA_Zoey_Working\\\\Logs\\\\0000\\\\0500\\\\000001.log', 'C:\\\\Users\\\\zoeylan\\\\AAA_Zoey_Working\\\\Logs\\\\0000\\\\0500\\\\000002.log', 'C:\\\\Users\\\\zoeylan\\\\AAA_Zoey_Working\\\\Logs\\\\0000\\\\0500\\\\000003.log', 'C:\\\\Users\\\\zoeylan\\\\AAA_Zoey_Working\\\\Logs\\\\0000\\\\0500\\\\000004.log', 'C:\\\\Users\\\\zoeylan\\\\AAA_Zoey_Working\\\\Logs\\\\0000\\\\0500\\\\000005.log', 'C:\\\\Users\\\\zoeylan\\\\AAA_Zoey_Working\\\\Logs\\\\0000\\\\0500\\\\000006.log', 'C:\\\\Users\\\\zoeylan\\\\AAA_Zoey_Working\\\\Logs\\\\0000\\\\0500\\\\000007.log', 'C:\\\\Users\\\\zoeylan\\\\AAA_Zoey_Working\\\\Logs\\\\0000\\\\0500\\\\000008.log', 'C:\\\\Users\\\\zoeylan\\\\AAA_Zoey_Working\\\\Logs\\\\0000\\\\0500\\\\000009.log', 'C:\\\\Users\\\\zoeylan\\\\AAA_Zoey_Working\\\\Logs\\\\0000\\\\0500\\\\000010.log', 'C:\\\\Users\\\\zoeylan\\\\AAA_Zoey_Working\\\\Logs\\\\0000\\\\0500\\\\000011.log', 'C:\\\\Users\\\\zoeylan\\\\AAA_Zoey_Working\\\\Logs\\\\0000\\\\0500\\\\000012.log', 'C:\\\\Users\\\\zoeylan\\\\AAA_Zoey_Working\\\\Logs\\\\0000\\\\0500\\\\000013.log', 'C:\\\\Users\\\\zoeylan\\\\AAA_Zoey_Working\\\\Logs\\\\0000\\\\0500\\\\000014.log', 'C:\\\\Users\\\\zoeylan\\\\AAA_Zoey_Working\\\\Logs\\\\0000\\\\0500\\\\000015.log'], ['C:\\\\Users\\\\zoeylan\\\\AAA_Zoey_Working\\\\Logs\\\\0600\\\\0600\\\\000000.log', 'C:\\\\Users\\\\zoeylan\\\\AAA_Zoey_Working\\\\Logs\\\\0600\\\\0600\\\\000001.log', 'C:\\\\Users\\\\zoeylan\\\\AAA_Zoey_Working\\\\Logs\\\\0600\\\\0600\\\\000002.log', 'C:\\\\Users\\\\zoeylan\\\\AAA_Zoey_Working\\\\Logs\\\\0600\\\\0600\\\\000003.log', 'C:\\\\Users\\\\zoeylan\\\\AAA_Zoey_Working\\\\Logs\\\\0600\\\\0600\\\\000004.log', 'C:\\\\Users\\\\zoeylan\\\\AAA_Zoey_Working\\\\Logs\\\\0600\\\\0600\\\\000005.log', 'C:\\\\Users\\\\zoeylan\\\\AAA_Zoey_Working\\\\Logs\\\\0600\\\\0600\\\\000006.log', 'C:\\\\Users\\\\zoeylan\\\\AAA_Zoey_Working\\\\Logs\\\\0600\\\\0600\\\\000007.log', 'C:\\\\Users\\\\zoeylan\\\\AAA_Zoey_Working\\\\Logs\\\\0600\\\\0600\\\\000008.log', 'C:\\\\Users\\\\zoeylan\\\\AAA_Zoey_Working\\\\Logs\\\\0600\\\\0600\\\\000009.log', 'C:\\\\Users\\\\zoeylan\\\\AAA_Zoey_Working\\\\Logs\\\\0600\\\\0600\\\\000010.log', 'C:\\\\Users\\\\zoeylan\\\\AAA_Zoey_Working\\\\Logs\\\\0600\\\\0600\\\\000011.log', 'C:\\\\Users\\\\zoeylan\\\\AAA_Zoey_Working\\\\Logs\\\\0600\\\\0600\\\\000012.log', 'C:\\\\Users\\\\zoeylan\\\\AAA_Zoey_Working\\\\Logs\\\\0600\\\\0600\\\\000013.log', 'C:\\\\Users\\\\zoeylan\\\\AAA_Zoey_Working\\\\Logs\\\\0600\\\\0600\\\\000014.log', 'C:\\\\Users\\\\zoeylan\\\\AAA_Zoey_Working\\\\Logs\\\\0600\\\\0600\\\\000015.log', 'C:\\\\Users\\\\zoeylan\\\\AAA_Zoey_Working\\\\Logs\\\\0600\\\\0600\\\\000016.log'], ['C:\\\\Users\\\\zoeylan\\\\AAA_Zoey_Working\\\\Logs\\\\0600\\\\0700\\\\000000.log', 'C:\\\\Users\\\\zoeylan\\\\AAA_Zoey_Working\\\\Logs\\\\0600\\\\0700\\\\000001.log', 'C:\\\\Users\\\\zoeylan\\\\AAA_Zoey_Working\\\\Logs\\\\0600\\\\0700\\\\000002.log', 'C:\\\\Users\\\\zoeylan\\\\AAA_Zoey_Working\\\\Logs\\\\0600\\\\0700\\\\000003.log', 'C:\\\\Users\\\\zoeylan\\\\AAA_Zoey_Working\\\\Logs\\\\0600\\\\0700\\\\000004.log', 'C:\\\\Users\\\\zoeylan\\\\AAA_Zoey_Working\\\\Logs\\\\0600\\\\0700\\\\000005.log', 'C:\\\\Users\\\\zoeylan\\\\AAA_Zoey_Working\\\\Logs\\\\0600\\\\0700\\\\000006.log', 'C:\\\\Users\\\\zoeylan\\\\AAA_Zoey_Working\\\\Logs\\\\0600\\\\0700\\\\000007.log', 'C:\\\\Users\\\\zoeylan\\\\AAA_Zoey_Working\\\\Logs\\\\0600\\\\0700\\\\000008.log', 'C:\\\\Users\\\\zoeylan\\\\AAA_Zoey_Working\\\\Logs\\\\0600\\\\0700\\\\000009.log', 'C:\\\\Users\\\\zoeylan\\\\AAA_Zoey_Working\\\\Logs\\\\0600\\\\0700\\\\000010.log', 'C:\\\\Users\\\\zoeylan\\\\AAA_Zoey_Working\\\\Logs\\\\0600\\\\0700\\\\000011.log', 'C:\\\\Users\\\\zoeylan\\\\AAA_Zoey_Working\\\\Logs\\\\0600\\\\0700\\\\000012.log', 'C:\\\\Users\\\\zoeylan\\\\AAA_Zoey_Working\\\\Logs\\\\0600\\\\0700\\\\000013.log', 'C:\\\\Users\\\\zoeylan\\\\AAA_Zoey_Working\\\\Logs\\\\0600\\\\0700\\\\000014.log', 'C:\\\\Users\\\\zoeylan\\\\AAA_Zoey_Working\\\\Logs\\\\0600\\\\0700\\\\000015.log'], ['C:\\\\Users\\\\zoeylan\\\\AAA_Zoey_Working\\\\Logs\\\\0600\\\\0800\\\\000000.log', 'C:\\\\Users\\\\zoeylan\\\\AAA_Zoey_Working\\\\Logs\\\\0600\\\\0800\\\\000001.log', 'C:\\\\Users\\\\zoeylan\\\\AAA_Zoey_Working\\\\Logs\\\\0600\\\\0800\\\\000002.log', 'C:\\\\Users\\\\zoeylan\\\\AAA_Zoey_Working\\\\Logs\\\\0600\\\\0800\\\\000003.log', 'C:\\\\Users\\\\zoeylan\\\\AAA_Zoey_Working\\\\Logs\\\\0600\\\\0800\\\\000004.log', 'C:\\\\Users\\\\zoeylan\\\\AAA_Zoey_Working\\\\Logs\\\\0600\\\\0800\\\\000005.log', 'C:\\\\Users\\\\zoeylan\\\\AAA_Zoey_Working\\\\Logs\\\\0600\\\\0800\\\\000006.log', 'C:\\\\Users\\\\zoeylan\\\\AAA_Zoey_Working\\\\Logs\\\\0600\\\\0800\\\\000007.log', 'C:\\\\Users\\\\zoeylan\\\\AAA_Zoey_Working\\\\Logs\\\\0600\\\\0800\\\\000008.log', 'C:\\\\Users\\\\zoeylan\\\\AAA_Zoey_Working\\\\Logs\\\\0600\\\\0800\\\\000009.log', 'C:\\\\Users\\\\zoeylan\\\\AAA_Zoey_Working\\\\Logs\\\\0600\\\\0800\\\\000010.log', 'C:\\\\Users\\\\zoeylan\\\\AAA_Zoey_Working\\\\Logs\\\\0600\\\\0800\\\\000011.log', 'C:\\\\Users\\\\zoeylan\\\\AAA_Zoey_Working\\\\Logs\\\\0600\\\\0800\\\\000012.log'], ['C:\\\\Users\\\\zoeylan\\\\AAA_Zoey_Working\\\\Logs\\\\0600\\\\0900\\\\000000.log', 'C:\\\\Users\\\\zoeylan\\\\AAA_Zoey_Working\\\\Logs\\\\0600\\\\0900\\\\000001.log', 'C:\\\\Users\\\\zoeylan\\\\AAA_Zoey_Working\\\\Logs\\\\0600\\\\0900\\\\000002.log', 'C:\\\\Users\\\\zoeylan\\\\AAA_Zoey_Working\\\\Logs\\\\0600\\\\0900\\\\000003.log', 'C:\\\\Users\\\\zoeylan\\\\AAA_Zoey_Working\\\\Logs\\\\0600\\\\0900\\\\000004.log', 'C:\\\\Users\\\\zoeylan\\\\AAA_Zoey_Working\\\\Logs\\\\0600\\\\0900\\\\000005.log', 'C:\\\\Users\\\\zoeylan\\\\AAA_Zoey_Working\\\\Logs\\\\0600\\\\0900\\\\000006.log', 'C:\\\\Users\\\\zoeylan\\\\AAA_Zoey_Working\\\\Logs\\\\0600\\\\0900\\\\000007.log', 'C:\\\\Users\\\\zoeylan\\\\AAA_Zoey_Working\\\\Logs\\\\0600\\\\0900\\\\000008.log', 'C:\\\\Users\\\\zoeylan\\\\AAA_Zoey_Working\\\\Logs\\\\0600\\\\0900\\\\000009.log', 'C:\\\\Users\\\\zoeylan\\\\AAA_Zoey_Working\\\\Logs\\\\0600\\\\0900\\\\000010.log', 'C:\\\\Users\\\\zoeylan\\\\AAA_Zoey_Working\\\\Logs\\\\0600\\\\0900\\\\000011.log', 'C:\\\\Users\\\\zoeylan\\\\AAA_Zoey_Working\\\\Logs\\\\0600\\\\0900\\\\000012.log', 'C:\\\\Users\\\\zoeylan\\\\AAA_Zoey_Working\\\\Logs\\\\0600\\\\0900\\\\000013.log', 'C:\\\\Users\\\\zoeylan\\\\AAA_Zoey_Working\\\\Logs\\\\0600\\\\0900\\\\000014.log', 'C:\\\\Users\\\\zoeylan\\\\AAA_Zoey_Working\\\\Logs\\\\0600\\\\0900\\\\000015.log'], ['C:\\\\Users\\\\zoeylan\\\\AAA_Zoey_Working\\\\Logs\\\\0600\\\\1000\\\\000000.log', 'C:\\\\Users\\\\zoeylan\\\\AAA_Zoey_Working\\\\Logs\\\\0600\\\\1000\\\\000001.log', 'C:\\\\Users\\\\zoeylan\\\\AAA_Zoey_Working\\\\Logs\\\\0600\\\\1000\\\\000002.log', 'C:\\\\Users\\\\zoeylan\\\\AAA_Zoey_Working\\\\Logs\\\\0600\\\\1000\\\\000003.log', 'C:\\\\Users\\\\zoeylan\\\\AAA_Zoey_Working\\\\Logs\\\\0600\\\\1000\\\\000004.log', 'C:\\\\Users\\\\zoeylan\\\\AAA_Zoey_Working\\\\Logs\\\\0600\\\\1000\\\\000005.log', 'C:\\\\Users\\\\zoeylan\\\\AAA_Zoey_Working\\\\Logs\\\\0600\\\\1000\\\\000006.log', 'C:\\\\Users\\\\zoeylan\\\\AAA_Zoey_Working\\\\Logs\\\\0600\\\\1000\\\\000007.log', 'C:\\\\Users\\\\zoeylan\\\\AAA_Zoey_Working\\\\Logs\\\\0600\\\\1000\\\\000008.log', 'C:\\\\Users\\\\zoeylan\\\\AAA_Zoey_Working\\\\Logs\\\\0600\\\\1000\\\\000009.log'], ['C:\\\\Users\\\\zoeylan\\\\AAA_Zoey_Working\\\\Logs\\\\0600\\\\1100\\\\000000.log', 'C:\\\\Users\\\\zoeylan\\\\AAA_Zoey_Working\\\\Logs\\\\0600\\\\1100\\\\000001.log', 'C:\\\\Users\\\\zoeylan\\\\AAA_Zoey_Working\\\\Logs\\\\0600\\\\1100\\\\000002.log', 'C:\\\\Users\\\\zoeylan\\\\AAA_Zoey_Working\\\\Logs\\\\0600\\\\1100\\\\000003.log', 'C:\\\\Users\\\\zoeylan\\\\AAA_Zoey_Working\\\\Logs\\\\0600\\\\1100\\\\000004.log', 'C:\\\\Users\\\\zoeylan\\\\AAA_Zoey_Working\\\\Logs\\\\0600\\\\1100\\\\000005.log', 'C:\\\\Users\\\\zoeylan\\\\AAA_Zoey_Working\\\\Logs\\\\0600\\\\1100\\\\000006.log', 'C:\\\\Users\\\\zoeylan\\\\AAA_Zoey_Working\\\\Logs\\\\0600\\\\1100\\\\000007.log', 'C:\\\\Users\\\\zoeylan\\\\AAA_Zoey_Working\\\\Logs\\\\0600\\\\1100\\\\000008.log', 'C:\\\\Users\\\\zoeylan\\\\AAA_Zoey_Working\\\\Logs\\\\0600\\\\1100\\\\000009.log', 'C:\\\\Users\\\\zoeylan\\\\AAA_Zoey_Working\\\\Logs\\\\0600\\\\1100\\\\000010.log', 'C:\\\\Users\\\\zoeylan\\\\AAA_Zoey_Working\\\\Logs\\\\0600\\\\1100\\\\000011.log'], ['C:\\\\Users\\\\zoeylan\\\\AAA_Zoey_Working\\\\Logs\\\\1200\\\\1200\\\\000000.log', 'C:\\\\Users\\\\zoeylan\\\\AAA_Zoey_Working\\\\Logs\\\\1200\\\\1200\\\\000001.log', 'C:\\\\Users\\\\zoeylan\\\\AAA_Zoey_Working\\\\Logs\\\\1200\\\\1200\\\\000002.log', 'C:\\\\Users\\\\zoeylan\\\\AAA_Zoey_Working\\\\Logs\\\\1200\\\\1200\\\\000003.log', 'C:\\\\Users\\\\zoeylan\\\\AAA_Zoey_Working\\\\Logs\\\\1200\\\\1200\\\\000004.log', 'C:\\\\Users\\\\zoeylan\\\\AAA_Zoey_Working\\\\Logs\\\\1200\\\\1200\\\\000005.log', 'C:\\\\Users\\\\zoeylan\\\\AAA_Zoey_Working\\\\Logs\\\\1200\\\\1200\\\\000006.log', 'C:\\\\Users\\\\zoeylan\\\\AAA_Zoey_Working\\\\Logs\\\\1200\\\\1200\\\\000007.log', 'C:\\\\Users\\\\zoeylan\\\\AAA_Zoey_Working\\\\Logs\\\\1200\\\\1200\\\\000008.log', 'C:\\\\Users\\\\zoeylan\\\\AAA_Zoey_Working\\\\Logs\\\\1200\\\\1200\\\\000009.log'], ['C:\\\\Users\\\\zoeylan\\\\AAA_Zoey_Working\\\\Logs\\\\1200\\\\1300\\\\000000.log', 'C:\\\\Users\\\\zoeylan\\\\AAA_Zoey_Working\\\\Logs\\\\1200\\\\1300\\\\000001.log', 'C:\\\\Users\\\\zoeylan\\\\AAA_Zoey_Working\\\\Logs\\\\1200\\\\1300\\\\000002.log', 'C:\\\\Users\\\\zoeylan\\\\AAA_Zoey_Working\\\\Logs\\\\1200\\\\1300\\\\000003.log', 'C:\\\\Users\\\\zoeylan\\\\AAA_Zoey_Working\\\\Logs\\\\1200\\\\1300\\\\000004.log', 'C:\\\\Users\\\\zoeylan\\\\AAA_Zoey_Working\\\\Logs\\\\1200\\\\1300\\\\000005.log', 'C:\\\\Users\\\\zoeylan\\\\AAA_Zoey_Working\\\\Logs\\\\1200\\\\1300\\\\000006.log', 'C:\\\\Users\\\\zoeylan\\\\AAA_Zoey_Working\\\\Logs\\\\1200\\\\1300\\\\000007.log', 'C:\\\\Users\\\\zoeylan\\\\AAA_Zoey_Working\\\\Logs\\\\1200\\\\1300\\\\000008.log', 'C:\\\\Users\\\\zoeylan\\\\AAA_Zoey_Working\\\\Logs\\\\1200\\\\1300\\\\000009.log', 'C:\\\\Users\\\\zoeylan\\\\AAA_Zoey_Working\\\\Logs\\\\1200\\\\1300\\\\000010.log', 'C:\\\\Users\\\\zoeylan\\\\AAA_Zoey_Working\\\\Logs\\\\1200\\\\1300\\\\000011.log', 'C:\\\\Users\\\\zoeylan\\\\AAA_Zoey_Working\\\\Logs\\\\1200\\\\1300\\\\000012.log'], ['C:\\\\Users\\\\zoeylan\\\\AAA_Zoey_Working\\\\Logs\\\\1200\\\\1400\\\\000000.log', 'C:\\\\Users\\\\zoeylan\\\\AAA_Zoey_Working\\\\Logs\\\\1200\\\\1400\\\\000001.log', 'C:\\\\Users\\\\zoeylan\\\\AAA_Zoey_Working\\\\Logs\\\\1200\\\\1400\\\\000002.log', 'C:\\\\Users\\\\zoeylan\\\\AAA_Zoey_Working\\\\Logs\\\\1200\\\\1400\\\\000003.log', 'C:\\\\Users\\\\zoeylan\\\\AAA_Zoey_Working\\\\Logs\\\\1200\\\\1400\\\\000004.log', 'C:\\\\Users\\\\zoeylan\\\\AAA_Zoey_Working\\\\Logs\\\\1200\\\\1400\\\\000005.log', 'C:\\\\Users\\\\zoeylan\\\\AAA_Zoey_Working\\\\Logs\\\\1200\\\\1400\\\\000006.log', 'C:\\\\Users\\\\zoeylan\\\\AAA_Zoey_Working\\\\Logs\\\\1200\\\\1400\\\\000007.log', 'C:\\\\Users\\\\zoeylan\\\\AAA_Zoey_Working\\\\Logs\\\\1200\\\\1400\\\\000008.log', 'C:\\\\Users\\\\zoeylan\\\\AAA_Zoey_Working\\\\Logs\\\\1200\\\\1400\\\\000009.log', 'C:\\\\Users\\\\zoeylan\\\\AAA_Zoey_Working\\\\Logs\\\\1200\\\\1400\\\\000010.log', 'C:\\\\Users\\\\zoeylan\\\\AAA_Zoey_Working\\\\Logs\\\\1200\\\\1400\\\\000011.log'], ['C:\\\\Users\\\\zoeylan\\\\AAA_Zoey_Working\\\\Logs\\\\1200\\\\1500\\\\000000.log', 'C:\\\\Users\\\\zoeylan\\\\AAA_Zoey_Working\\\\Logs\\\\1200\\\\1500\\\\000001.log', 'C:\\\\Users\\\\zoeylan\\\\AAA_Zoey_Working\\\\Logs\\\\1200\\\\1500\\\\000002.log', 'C:\\\\Users\\\\zoeylan\\\\AAA_Zoey_Working\\\\Logs\\\\1200\\\\1500\\\\000003.log', 'C:\\\\Users\\\\zoeylan\\\\AAA_Zoey_Working\\\\Logs\\\\1200\\\\1500\\\\000004.log', 'C:\\\\Users\\\\zoeylan\\\\AAA_Zoey_Working\\\\Logs\\\\1200\\\\1500\\\\000005.log', 'C:\\\\Users\\\\zoeylan\\\\AAA_Zoey_Working\\\\Logs\\\\1200\\\\1500\\\\000006.log', 'C:\\\\Users\\\\zoeylan\\\\AAA_Zoey_Working\\\\Logs\\\\1200\\\\1500\\\\000007.log', 'C:\\\\Users\\\\zoeylan\\\\AAA_Zoey_Working\\\\Logs\\\\1200\\\\1500\\\\000008.log', 'C:\\\\Users\\\\zoeylan\\\\AAA_Zoey_Working\\\\Logs\\\\1200\\\\1500\\\\000009.log', 'C:\\\\Users\\\\zoeylan\\\\AAA_Zoey_Working\\\\Logs\\\\1200\\\\1500\\\\000010.log', 'C:\\\\Users\\\\zoeylan\\\\AAA_Zoey_Working\\\\Logs\\\\1200\\\\1500\\\\000011.log', 'C:\\\\Users\\\\zoeylan\\\\AAA_Zoey_Working\\\\Logs\\\\1200\\\\1500\\\\000012.log', 'C:\\\\Users\\\\zoeylan\\\\AAA_Zoey_Working\\\\Logs\\\\1200\\\\1500\\\\000013.log', 'C:\\\\Users\\\\zoeylan\\\\AAA_Zoey_Working\\\\Logs\\\\1200\\\\1500\\\\000014.log', 'C:\\\\Users\\\\zoeylan\\\\AAA_Zoey_Working\\\\Logs\\\\1200\\\\1500\\\\000015.log'], ['C:\\\\Users\\\\zoeylan\\\\AAA_Zoey_Working\\\\Logs\\\\1200\\\\1600\\\\000000.log', 'C:\\\\Users\\\\zoeylan\\\\AAA_Zoey_Working\\\\Logs\\\\1200\\\\1600\\\\000001.log', 'C:\\\\Users\\\\zoeylan\\\\AAA_Zoey_Working\\\\Logs\\\\1200\\\\1600\\\\000002.log', 'C:\\\\Users\\\\zoeylan\\\\AAA_Zoey_Working\\\\Logs\\\\1200\\\\1600\\\\000003.log', 'C:\\\\Users\\\\zoeylan\\\\AAA_Zoey_Working\\\\Logs\\\\1200\\\\1600\\\\000004.log', 'C:\\\\Users\\\\zoeylan\\\\AAA_Zoey_Working\\\\Logs\\\\1200\\\\1600\\\\000005.log', 'C:\\\\Users\\\\zoeylan\\\\AAA_Zoey_Working\\\\Logs\\\\1200\\\\1600\\\\000006.log', 'C:\\\\Users\\\\zoeylan\\\\AAA_Zoey_Working\\\\Logs\\\\1200\\\\1600\\\\000007.log', 'C:\\\\Users\\\\zoeylan\\\\AAA_Zoey_Working\\\\Logs\\\\1200\\\\1600\\\\000008.log', 'C:\\\\Users\\\\zoeylan\\\\AAA_Zoey_Working\\\\Logs\\\\1200\\\\1600\\\\000009.log', 'C:\\\\Users\\\\zoeylan\\\\AAA_Zoey_Working\\\\Logs\\\\1200\\\\1600\\\\000010.log', 'C:\\\\Users\\\\zoeylan\\\\AAA_Zoey_Working\\\\Logs\\\\1200\\\\1600\\\\000011.log', 'C:\\\\Users\\\\zoeylan\\\\AAA_Zoey_Working\\\\Logs\\\\1200\\\\1600\\\\000012.log', 'C:\\\\Users\\\\zoeylan\\\\AAA_Zoey_Working\\\\Logs\\\\1200\\\\1600\\\\000013.log', 'C:\\\\Users\\\\zoeylan\\\\AAA_Zoey_Working\\\\Logs\\\\1200\\\\1600\\\\000014.log', 'C:\\\\Users\\\\zoeylan\\\\AAA_Zoey_Working\\\\Logs\\\\1200\\\\1600\\\\000015.log', 'C:\\\\Users\\\\zoeylan\\\\AAA_Zoey_Working\\\\Logs\\\\1200\\\\1600\\\\000016.log', 'C:\\\\Users\\\\zoeylan\\\\AAA_Zoey_Working\\\\Logs\\\\1200\\\\1600\\\\000017.log'], ['C:\\\\Users\\\\zoeylan\\\\AAA_Zoey_Working\\\\Logs\\\\1200\\\\1700\\\\000000.log', 'C:\\\\Users\\\\zoeylan\\\\AAA_Zoey_Working\\\\Logs\\\\1200\\\\1700\\\\000001.log', 'C:\\\\Users\\\\zoeylan\\\\AAA_Zoey_Working\\\\Logs\\\\1200\\\\1700\\\\000002.log', 'C:\\\\Users\\\\zoeylan\\\\AAA_Zoey_Working\\\\Logs\\\\1200\\\\1700\\\\000003.log', 'C:\\\\Users\\\\zoeylan\\\\AAA_Zoey_Working\\\\Logs\\\\1200\\\\1700\\\\000004.log', 'C:\\\\Users\\\\zoeylan\\\\AAA_Zoey_Working\\\\Logs\\\\1200\\\\1700\\\\000005.log', 'C:\\\\Users\\\\zoeylan\\\\AAA_Zoey_Working\\\\Logs\\\\1200\\\\1700\\\\000006.log', 'C:\\\\Users\\\\zoeylan\\\\AAA_Zoey_Working\\\\Logs\\\\1200\\\\1700\\\\000007.log', 'C:\\\\Users\\\\zoeylan\\\\AAA_Zoey_Working\\\\Logs\\\\1200\\\\1700\\\\000008.log', 'C:\\\\Users\\\\zoeylan\\\\AAA_Zoey_Working\\\\Logs\\\\1200\\\\1700\\\\000009.log', 'C:\\\\Users\\\\zoeylan\\\\AAA_Zoey_Working\\\\Logs\\\\1200\\\\1700\\\\000010.log', 'C:\\\\Users\\\\zoeylan\\\\AAA_Zoey_Working\\\\Logs\\\\1200\\\\1700\\\\000011.log', 'C:\\\\Users\\\\zoeylan\\\\AAA_Zoey_Working\\\\Logs\\\\1200\\\\1700\\\\000012.log', 'C:\\\\Users\\\\zoeylan\\\\AAA_Zoey_Working\\\\Logs\\\\1200\\\\1700\\\\000013.log'], ['C:\\\\Users\\\\zoeylan\\\\AAA_Zoey_Working\\\\Logs\\\\1800\\\\1800\\\\000000.log', 'C:\\\\Users\\\\zoeylan\\\\AAA_Zoey_Working\\\\Logs\\\\1800\\\\1800\\\\000001.log', 'C:\\\\Users\\\\zoeylan\\\\AAA_Zoey_Working\\\\Logs\\\\1800\\\\1800\\\\000002.log', 'C:\\\\Users\\\\zoeylan\\\\AAA_Zoey_Working\\\\Logs\\\\1800\\\\1800\\\\000003.log', 'C:\\\\Users\\\\zoeylan\\\\AAA_Zoey_Working\\\\Logs\\\\1800\\\\1800\\\\000004.log', 'C:\\\\Users\\\\zoeylan\\\\AAA_Zoey_Working\\\\Logs\\\\1800\\\\1800\\\\000005.log', 'C:\\\\Users\\\\zoeylan\\\\AAA_Zoey_Working\\\\Logs\\\\1800\\\\1800\\\\000006.log', 'C:\\\\Users\\\\zoeylan\\\\AAA_Zoey_Working\\\\Logs\\\\1800\\\\1800\\\\000007.log', 'C:\\\\Users\\\\zoeylan\\\\AAA_Zoey_Working\\\\Logs\\\\1800\\\\1800\\\\000008.log', 'C:\\\\Users\\\\zoeylan\\\\AAA_Zoey_Working\\\\Logs\\\\1800\\\\1800\\\\000009.log', 'C:\\\\Users\\\\zoeylan\\\\AAA_Zoey_Working\\\\Logs\\\\1800\\\\1800\\\\000010.log', 'C:\\\\Users\\\\zoeylan\\\\AAA_Zoey_Working\\\\Logs\\\\1800\\\\1800\\\\000011.log', 'C:\\\\Users\\\\zoeylan\\\\AAA_Zoey_Working\\\\Logs\\\\1800\\\\1800\\\\000012.log'], ['C:\\\\Users\\\\zoeylan\\\\AAA_Zoey_Working\\\\Logs\\\\1800\\\\1900\\\\000000.log', 'C:\\\\Users\\\\zoeylan\\\\AAA_Zoey_Working\\\\Logs\\\\1800\\\\1900\\\\000001.log', 'C:\\\\Users\\\\zoeylan\\\\AAA_Zoey_Working\\\\Logs\\\\1800\\\\1900\\\\000002.log', 'C:\\\\Users\\\\zoeylan\\\\AAA_Zoey_Working\\\\Logs\\\\1800\\\\1900\\\\000003.log', 'C:\\\\Users\\\\zoeylan\\\\AAA_Zoey_Working\\\\Logs\\\\1800\\\\1900\\\\000004.log', 'C:\\\\Users\\\\zoeylan\\\\AAA_Zoey_Working\\\\Logs\\\\1800\\\\1900\\\\000005.log', 'C:\\\\Users\\\\zoeylan\\\\AAA_Zoey_Working\\\\Logs\\\\1800\\\\1900\\\\000006.log', 'C:\\\\Users\\\\zoeylan\\\\AAA_Zoey_Working\\\\Logs\\\\1800\\\\1900\\\\000007.log', 'C:\\\\Users\\\\zoeylan\\\\AAA_Zoey_Working\\\\Logs\\\\1800\\\\1900\\\\000008.log', 'C:\\\\Users\\\\zoeylan\\\\AAA_Zoey_Working\\\\Logs\\\\1800\\\\1900\\\\000009.log', 'C:\\\\Users\\\\zoeylan\\\\AAA_Zoey_Working\\\\Logs\\\\1800\\\\1900\\\\000010.log', 'C:\\\\Users\\\\zoeylan\\\\AAA_Zoey_Working\\\\Logs\\\\1800\\\\1900\\\\000011.log'], ['C:\\\\Users\\\\zoeylan\\\\AAA_Zoey_Working\\\\Logs\\\\1800\\\\2000\\\\000000.log', 'C:\\\\Users\\\\zoeylan\\\\AAA_Zoey_Working\\\\Logs\\\\1800\\\\2000\\\\000001.log', 'C:\\\\Users\\\\zoeylan\\\\AAA_Zoey_Working\\\\Logs\\\\1800\\\\2000\\\\000002.log', 'C:\\\\Users\\\\zoeylan\\\\AAA_Zoey_Working\\\\Logs\\\\1800\\\\2000\\\\000003.log', 'C:\\\\Users\\\\zoeylan\\\\AAA_Zoey_Working\\\\Logs\\\\1800\\\\2000\\\\000004.log', 'C:\\\\Users\\\\zoeylan\\\\AAA_Zoey_Working\\\\Logs\\\\1800\\\\2000\\\\000005.log', 'C:\\\\Users\\\\zoeylan\\\\AAA_Zoey_Working\\\\Logs\\\\1800\\\\2000\\\\000006.log', 'C:\\\\Users\\\\zoeylan\\\\AAA_Zoey_Working\\\\Logs\\\\1800\\\\2000\\\\000007.log', 'C:\\\\Users\\\\zoeylan\\\\AAA_Zoey_Working\\\\Logs\\\\1800\\\\2000\\\\000008.log', 'C:\\\\Users\\\\zoeylan\\\\AAA_Zoey_Working\\\\Logs\\\\1800\\\\2000\\\\000009.log'], ['C:\\\\Users\\\\zoeylan\\\\AAA_Zoey_Working\\\\Logs\\\\1800\\\\2100\\\\000000.log', 'C:\\\\Users\\\\zoeylan\\\\AAA_Zoey_Working\\\\Logs\\\\1800\\\\2100\\\\000001.log', 'C:\\\\Users\\\\zoeylan\\\\AAA_Zoey_Working\\\\Logs\\\\1800\\\\2100\\\\000002.log', 'C:\\\\Users\\\\zoeylan\\\\AAA_Zoey_Working\\\\Logs\\\\1800\\\\2100\\\\000003.log', 'C:\\\\Users\\\\zoeylan\\\\AAA_Zoey_Working\\\\Logs\\\\1800\\\\2100\\\\000004.log', 'C:\\\\Users\\\\zoeylan\\\\AAA_Zoey_Working\\\\Logs\\\\1800\\\\2100\\\\000005.log', 'C:\\\\Users\\\\zoeylan\\\\AAA_Zoey_Working\\\\Logs\\\\1800\\\\2100\\\\000006.log', 'C:\\\\Users\\\\zoeylan\\\\AAA_Zoey_Working\\\\Logs\\\\1800\\\\2100\\\\000007.log', 'C:\\\\Users\\\\zoeylan\\\\AAA_Zoey_Working\\\\Logs\\\\1800\\\\2100\\\\000008.log', 'C:\\\\Users\\\\zoeylan\\\\AAA_Zoey_Working\\\\Logs\\\\1800\\\\2100\\\\000009.log', 'C:\\\\Users\\\\zoeylan\\\\AAA_Zoey_Working\\\\Logs\\\\1800\\\\2100\\\\000010.log', 'C:\\\\Users\\\\zoeylan\\\\AAA_Zoey_Working\\\\Logs\\\\1800\\\\2100\\\\000011.log', 'C:\\\\Users\\\\zoeylan\\\\AAA_Zoey_Working\\\\Logs\\\\1800\\\\2100\\\\000012.log', 'C:\\\\Users\\\\zoeylan\\\\AAA_Zoey_Working\\\\Logs\\\\1800\\\\2100\\\\000013.log', 'C:\\\\Users\\\\zoeylan\\\\AAA_Zoey_Working\\\\Logs\\\\1800\\\\2100\\\\000014.log', 'C:\\\\Users\\\\zoeylan\\\\AAA_Zoey_Working\\\\Logs\\\\1800\\\\2100\\\\000015.log', 'C:\\\\Users\\\\zoeylan\\\\AAA_Zoey_Working\\\\Logs\\\\1800\\\\2100\\\\000016.log'], ['C:\\\\Users\\\\zoeylan\\\\AAA_Zoey_Working\\\\Logs\\\\1800\\\\2200\\\\000000.log', 'C:\\\\Users\\\\zoeylan\\\\AAA_Zoey_Working\\\\Logs\\\\1800\\\\2200\\\\000001.log', 'C:\\\\Users\\\\zoeylan\\\\AAA_Zoey_Working\\\\Logs\\\\1800\\\\2200\\\\000002.log', 'C:\\\\Users\\\\zoeylan\\\\AAA_Zoey_Working\\\\Logs\\\\1800\\\\2200\\\\000003.log', 'C:\\\\Users\\\\zoeylan\\\\AAA_Zoey_Working\\\\Logs\\\\1800\\\\2200\\\\000004.log', 'C:\\\\Users\\\\zoeylan\\\\AAA_Zoey_Working\\\\Logs\\\\1800\\\\2200\\\\000005.log', 'C:\\\\Users\\\\zoeylan\\\\AAA_Zoey_Working\\\\Logs\\\\1800\\\\2200\\\\000006.log', 'C:\\\\Users\\\\zoeylan\\\\AAA_Zoey_Working\\\\Logs\\\\1800\\\\2200\\\\000007.log', 'C:\\\\Users\\\\zoeylan\\\\AAA_Zoey_Working\\\\Logs\\\\1800\\\\2200\\\\000008.log', 'C:\\\\Users\\\\zoeylan\\\\AAA_Zoey_Working\\\\Logs\\\\1800\\\\2200\\\\000009.log', 'C:\\\\Users\\\\zoeylan\\\\AAA_Zoey_Working\\\\Logs\\\\1800\\\\2200\\\\000010.log', 'C:\\\\Users\\\\zoeylan\\\\AAA_Zoey_Working\\\\Logs\\\\1800\\\\2200\\\\000011.log'], ['C:\\\\Users\\\\zoeylan\\\\AAA_Zoey_Working\\\\Logs\\\\1800\\\\2300\\\\000000.log', 'C:\\\\Users\\\\zoeylan\\\\AAA_Zoey_Working\\\\Logs\\\\1800\\\\2300\\\\000001.log', 'C:\\\\Users\\\\zoeylan\\\\AAA_Zoey_Working\\\\Logs\\\\1800\\\\2300\\\\000002.log', 'C:\\\\Users\\\\zoeylan\\\\AAA_Zoey_Working\\\\Logs\\\\1800\\\\2300\\\\000003.log', 'C:\\\\Users\\\\zoeylan\\\\AAA_Zoey_Working\\\\Logs\\\\1800\\\\2300\\\\000004.log', 'C:\\\\Users\\\\zoeylan\\\\AAA_Zoey_Working\\\\Logs\\\\1800\\\\2300\\\\000005.log', 'C:\\\\Users\\\\zoeylan\\\\AAA_Zoey_Working\\\\Logs\\\\1800\\\\2300\\\\000006.log', 'C:\\\\Users\\\\zoeylan\\\\AAA_Zoey_Working\\\\Logs\\\\1800\\\\2300\\\\000007.log', 'C:\\\\Users\\\\zoeylan\\\\AAA_Zoey_Working\\\\Logs\\\\1800\\\\2300\\\\000008.log', 'C:\\\\Users\\\\zoeylan\\\\AAA_Zoey_Working\\\\Logs\\\\1800\\\\2300\\\\000009.log', 'C:\\\\Users\\\\zoeylan\\\\AAA_Zoey_Working\\\\Logs\\\\1800\\\\2300\\\\000010.log', 'C:\\\\Users\\\\zoeylan\\\\AAA_Zoey_Working\\\\Logs\\\\1800\\\\2300\\\\000011.log', 'C:\\\\Users\\\\zoeylan\\\\AAA_Zoey_Working\\\\Logs\\\\1800\\\\2300\\\\000012.log', 'C:\\\\Users\\\\zoeylan\\\\AAA_Zoey_Working\\\\Logs\\\\1800\\\\2300\\\\000013.log', 'C:\\\\Users\\\\zoeylan\\\\AAA_Zoey_Working\\\\Logs\\\\1800\\\\2300\\\\000014.log', 'C:\\\\Users\\\\zoeylan\\\\AAA_Zoey_Working\\\\Logs\\\\1800\\\\2300\\\\000015.log']]\n"
     ]
    }
   ],
   "source": [
    "## Read all the log files ##\n",
    "\n",
    "log_list = []\n",
    "\n",
    "for subfolder in folder_list:\n",
    "    file_list = []\n",
    "    for root, subdirectories, files in os.walk(subfolder):\n",
    "        for file in files:\n",
    "            string = os.path.join(root, file)\n",
    "            if string[-4:] == \".log\":\n",
    "                file_list.append(os.path.join(root, file))\n",
    "    log_list.append(file_list)\n",
    "print(log_list)"
   ]
  },
  {
   "cell_type": "code",
   "execution_count": 8,
   "id": "f7ac3eda",
   "metadata": {},
   "outputs": [],
   "source": [
    "# pd.DataFrame(log_list)"
   ]
  },
  {
   "cell_type": "code",
   "execution_count": 9,
   "id": "bf33ebb6",
   "metadata": {},
   "outputs": [
    {
     "name": "stdout",
     "output_type": "stream",
     "text": [
      "Empty DataFrame\n",
      "Columns: [<requester-ip-address>, <operation-type>]\n",
      "Index: []\n",
      "Empty DataFrame\n",
      "Columns: [<user-object-id>, <operation-type>]\n",
      "Index: []\n"
     ]
    }
   ],
   "source": [
    "## Create two empty dataframes to save final results ##\n",
    "## Two examples here: one table for requester-ip-address and one for user-object-id ##\n",
    "\n",
    "iptable = pd.DataFrame(columns= ['<requester-ip-address>', '<operation-type>'])\n",
    "objectidtable = pd.DataFrame(columns=['<user-object-id>', '<operation-type>'])\n",
    "\n",
    "print(iptable)\n",
    "print(objectidtable)"
   ]
  },
  {
   "cell_type": "code",
   "execution_count": 10,
   "id": "10b9fa45",
   "metadata": {},
   "outputs": [
    {
     "name": "stdout",
     "output_type": "stream",
     "text": [
      "Hour No. 1\n",
      "Hour No. 2\n",
      "Hour No. 3\n",
      "Hour No. 4\n",
      "Hour No. 5\n",
      "Hour No. 6\n",
      "Hour No. 7\n",
      "Hour No. 8\n",
      "Hour No. 9\n",
      "Hour No. 10\n",
      "Hour No. 11\n",
      "Hour No. 12\n",
      "Hour No. 13\n",
      "Hour No. 14\n",
      "Hour No. 15\n",
      "Hour No. 16\n",
      "Hour No. 17\n",
      "Hour No. 18\n",
      "Hour No. 19\n",
      "Hour No. 20\n",
      "Hour No. 21\n",
      "Hour No. 22\n",
      "Hour No. 23\n",
      "Hour No. 24\n"
     ]
    }
   ],
   "source": [
    "## Read in all the logs and combine together in one table ##\n",
    "## Do some filtering and group by work ##\n",
    "\n",
    "i = 1 # Used to check the progress, should be 24 in total here\n",
    "\n",
    "for hourlylog in log_list:\n",
    "    \n",
    "    log_df = pd.DataFrame(columns=header)\n",
    "    print(\"Hour No.\", i)\n",
    "    \n",
    "    for log in hourlylog:\n",
    "        df = pd.read_csv(log, sep=';', low_memory=False, names = header)\n",
    "        log_df = log_df.append(df, ignore_index=True)\n",
    "        \n",
    "        ## Filter out \"AppendFile\" operation only as an example\n",
    "        write = log_df[log_df['<operation-type>'] == 'AppendFile']\n",
    "        \n",
    "        ## Count the total number of requests based on user-object-id & requester-ip-address\n",
    "        objectid = pd.DataFrame(write.groupby(['<user-object-id>'])['<operation-type>'].count()).reset_index()\n",
    "        ip = pd.DataFrame(write.groupby(['<requester-ip-address>'])['<operation-type>'].count()).reset_index()\n",
    "        \n",
    "        objectidtable = objectidtable.append(objectid, ignore_index=True)\n",
    "        iptable = iptable.append(ip, ignore_index=True)\n",
    "        \n",
    "    i = i+1   "
   ]
  },
  {
   "cell_type": "code",
   "execution_count": 11,
   "id": "837c1f06",
   "metadata": {},
   "outputs": [],
   "source": [
    "## Remove the duplicates and sum up the count ##\n",
    "\n",
    "iptable = pd.DataFrame(iptable.groupby(['<requester-ip-address>'])['<operation-type>'].sum()).reset_index()\n",
    "objectidtable = pd.DataFrame(objectidtable.groupby(['<user-object-id>'])['<operation-type>'].sum()).reset_index()"
   ]
  },
  {
   "cell_type": "code",
   "execution_count": 13,
   "id": "a487b9ca",
   "metadata": {},
   "outputs": [],
   "source": [
    "## Export as csv files ##\n",
    "\n",
    "iptable.to_csv('iptable.csv')\n",
    "objectidtable.to_csv('objectidtable.csv')"
   ]
  },
  {
   "cell_type": "code",
   "execution_count": null,
   "id": "6c83c03f",
   "metadata": {},
   "outputs": [],
   "source": []
  }
 ],
 "metadata": {
  "kernelspec": {
   "display_name": "Python 3 (ipykernel)",
   "language": "python",
   "name": "python3"
  },
  "language_info": {
   "codemirror_mode": {
    "name": "ipython",
    "version": 3
   },
   "file_extension": ".py",
   "mimetype": "text/x-python",
   "name": "python",
   "nbconvert_exporter": "python",
   "pygments_lexer": "ipython3",
   "version": "3.9.7"
  }
 },
 "nbformat": 4,
 "nbformat_minor": 5
}
