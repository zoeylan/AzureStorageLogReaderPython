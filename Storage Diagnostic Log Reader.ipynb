{
 "cells": [
  {
   "cell_type": "code",
   "execution_count": 1,
   "id": "fbe41d1d",
   "metadata": {},
   "outputs": [],
   "source": [
    "## Import needed modules ##\n",
    "\n",
    "import pandas as pd\n",
    "import os "
   ]
  },
  {
   "cell_type": "code",
   "execution_count": 2,
   "id": "9aa6e022",
   "metadata": {},
   "outputs": [],
   "source": [
    "## Set the log header ##\n",
    "## Below is Log entry format 2.0 ##\n",
    "## You can find header in this document: https://docs.microsoft.com/en-us/rest/api/storageservices/storage-analytics-log-format ##\n",
    "\n",
    "header=['<version-number>', '<request-start-time>', '<operation-type>',\n",
    "       '<request-status>', '<http-status-code>', '<end-to-end-latency-in-ms>',\n",
    "       '<server-latency-in-ms>', '<authentication-type>',\n",
    "       '<requester-account-name>', '<owner-account-name>', '<service-type>',\n",
    "       '<request-url>', '<requested-object-key>', '<request-id-header>',\n",
    "       '<operation-count>', '<requester-ip-address>',\n",
    "       '<request-version-header>', '<request-header-size>',\n",
    "       '<request-packet-size>', '<response-header-size>',\n",
    "       '<response-packet-size>', '<request-content-length>', '<request-md5>',\n",
    "       '<server-md5>', '<etag-identifier>', '<last-modified-time>',\n",
    "       '<conditions-used>', '<user-agent-header>', '<referrer-header>',\n",
    "       '<client-request-id>', '<user-object-id>', '<tenant-id>',\n",
    "       '<application-id>', '<audience>', '<issuer>', '<user-principal-name>',\n",
    "       '<reserved-field>', '<authorization-detail>']"
   ]
  },
  {
   "cell_type": "code",
   "execution_count": 3,
   "id": "fd59e30f",
   "metadata": {},
   "outputs": [
    {
     "name": "stdout",
     "output_type": "stream",
     "text": [
      "['C:\\\\Users\\\\zoeylan\\\\AAA_Zoey_Working\\\\Logs\\\\0000\\\\0000', 'C:\\\\Users\\\\zoeylan\\\\AAA_Zoey_Working\\\\Logs\\\\0000\\\\0100', 'C:\\\\Users\\\\zoeylan\\\\AAA_Zoey_Working\\\\Logs\\\\0000\\\\0200', 'C:\\\\Users\\\\zoeylan\\\\AAA_Zoey_Working\\\\Logs\\\\0000\\\\0300', 'C:\\\\Users\\\\zoeylan\\\\AAA_Zoey_Working\\\\Logs\\\\0000\\\\0400', 'C:\\\\Users\\\\zoeylan\\\\AAA_Zoey_Working\\\\Logs\\\\0000\\\\0500', 'C:\\\\Users\\\\zoeylan\\\\AAA_Zoey_Working\\\\Logs\\\\0600\\\\0600', 'C:\\\\Users\\\\zoeylan\\\\AAA_Zoey_Working\\\\Logs\\\\0600\\\\0700', 'C:\\\\Users\\\\zoeylan\\\\AAA_Zoey_Working\\\\Logs\\\\0600\\\\0800', 'C:\\\\Users\\\\zoeylan\\\\AAA_Zoey_Working\\\\Logs\\\\0600\\\\0900', 'C:\\\\Users\\\\zoeylan\\\\AAA_Zoey_Working\\\\Logs\\\\0600\\\\1000', 'C:\\\\Users\\\\zoeylan\\\\AAA_Zoey_Working\\\\Logs\\\\0600\\\\1100', 'C:\\\\Users\\\\zoeylan\\\\AAA_Zoey_Working\\\\Logs\\\\1200\\\\1200', 'C:\\\\Users\\\\zoeylan\\\\AAA_Zoey_Working\\\\Logs\\\\1200\\\\1300', 'C:\\\\Users\\\\zoeylan\\\\AAA_Zoey_Working\\\\Logs\\\\1200\\\\1400', 'C:\\\\Users\\\\zoeylan\\\\AAA_Zoey_Working\\\\Logs\\\\1200\\\\1500', 'C:\\\\Users\\\\zoeylan\\\\AAA_Zoey_Working\\\\Logs\\\\1200\\\\1600', 'C:\\\\Users\\\\zoeylan\\\\AAA_Zoey_Working\\\\Logs\\\\1200\\\\1700', 'C:\\\\Users\\\\zoeylan\\\\AAA_Zoey_Working\\\\Logs\\\\1800\\\\1800', 'C:\\\\Users\\\\zoeylan\\\\AAA_Zoey_Working\\\\Logs\\\\1800\\\\1900', 'C:\\\\Users\\\\zoeylan\\\\AAA_Zoey_Working\\\\Logs\\\\1800\\\\2000', 'C:\\\\Users\\\\zoeylan\\\\AAA_Zoey_Working\\\\Logs\\\\1800\\\\2100', 'C:\\\\Users\\\\zoeylan\\\\AAA_Zoey_Working\\\\Logs\\\\1800\\\\2200', 'C:\\\\Users\\\\zoeylan\\\\AAA_Zoey_Working\\\\Logs\\\\1800\\\\2300']\n"
     ]
    }
   ],
   "source": [
    "## Read all the subfolders ##\n",
    "\n",
    "directory = \"C:\\\\Users\\\\zoeylan\\\\AAA_Zoey_Working\\\\Logs\\\\\"\n",
    "folder_list = []\n",
    "\n",
    "for root, subdirectories, files in os.walk(directory):\n",
    "    for subdirectory in subdirectories:\n",
    "        folder_list.append(os.path.join(root, subdirectory))\n",
    "folder_list = folder_list[4:]\n",
    "print(folder_list)"
   ]
  },
  {
   "cell_type": "code",
   "execution_count": 6,
   "id": "c253cdb2",
   "metadata": {},
   "outputs": [
    {
     "name": "stdout",
     "output_type": "stream",
     "text": [
      "[['C:\\\\Users\\\\zoeylan\\\\AAA_Zoey_Working\\\\Logs\\\\0000\\\\0000\\\\000000.log', 'C:\\\\Users\\\\zoeylan\\\\AAA_Zoey_Working\\\\Logs\\\\0000\\\\0000\\\\000001.log', 'C:\\\\Users\\\\zoeylan\\\\AAA_Zoey_Working\\\\Logs\\\\0000\\\\0000\\\\000002.log', 'C:\\\\Users\\\\zoeylan\\\\AAA_Zoey_Working\\\\Logs\\\\0000\\\\0000\\\\000003.log', 'C:\\\\Users\\\\zoeylan\\\\AAA_Zoey_Working\\\\Logs\\\\0000\\\\0000\\\\000004.log', 'C:\\\\Users\\\\zoeylan\\\\AAA_Zoey_Working\\\\Logs\\\\0000\\\\0000\\\\000005.log', 'C:\\\\Users\\\\zoeylan\\\\AAA_Zoey_Working\\\\Logs\\\\0000\\\\0000\\\\000006.log', 'C:\\\\Users\\\\zoeylan\\\\AAA_Zoey_Working\\\\Logs\\\\0000\\\\0000\\\\000007.log', 'C:\\\\Users\\\\zoeylan\\\\AAA_Zoey_Working\\\\Logs\\\\0000\\\\0000\\\\000008.log', 'C:\\\\Users\\\\zoeylan\\\\AAA_Zoey_Working\\\\Logs\\\\0000\\\\0000\\\\000009.log'], ['C:\\\\Users\\\\zoeylan\\\\AAA_Zoey_Working\\\\Logs\\\\0000\\\\0100\\\\000000.log', 'C:\\\\Users\\\\zoeylan\\\\AAA_Zoey_Working\\\\Logs\\\\0000\\\\0100\\\\000001.log', 'C:\\\\Users\\\\zoeylan\\\\AAA_Zoey_Working\\\\Logs\\\\0000\\\\0100\\\\000002.log', 'C:\\\\Users\\\\zoeylan\\\\AAA_Zoey_Working\\\\Logs\\\\0000\\\\0100\\\\000003.log', 'C:\\\\Users\\\\zoeylan\\\\AAA_Zoey_Working\\\\Logs\\\\0000\\\\0100\\\\000004.log', 'C:\\\\Users\\\\zoeylan\\\\AAA_Zoey_Working\\\\Logs\\\\0000\\\\0100\\\\000005.log', 'C:\\\\Users\\\\zoeylan\\\\AAA_Zoey_Working\\\\Logs\\\\0000\\\\0100\\\\000006.log', 'C:\\\\Users\\\\zoeylan\\\\AAA_Zoey_Working\\\\Logs\\\\0000\\\\0100\\\\000007.log', 'C:\\\\Users\\\\zoeylan\\\\AAA_Zoey_Working\\\\Logs\\\\0000\\\\0100\\\\000008.log', 'C:\\\\Users\\\\zoeylan\\\\AAA_Zoey_Working\\\\Logs\\\\0000\\\\0100\\\\000009.log', 'C:\\\\Users\\\\zoeylan\\\\AAA_Zoey_Working\\\\Logs\\\\0000\\\\0100\\\\000010.log', 'C:\\\\Users\\\\zoeylan\\\\AAA_Zoey_Working\\\\Logs\\\\0000\\\\0100\\\\000011.log', 'C:\\\\Users\\\\zoeylan\\\\AAA_Zoey_Working\\\\Logs\\\\0000\\\\0100\\\\000012.log', 'C:\\\\Users\\\\zoeylan\\\\AAA_Zoey_Working\\\\Logs\\\\0000\\\\0100\\\\000013.log', 'C:\\\\Users\\\\zoeylan\\\\AAA_Zoey_Working\\\\Logs\\\\0000\\\\0100\\\\000014.log', 'C:\\\\Users\\\\zoeylan\\\\AAA_Zoey_Working\\\\Logs\\\\0000\\\\0100\\\\000015.log', 'C:\\\\Users\\\\zoeylan\\\\AAA_Zoey_Working\\\\Logs\\\\0000\\\\0100\\\\000016.log'], ['C:\\\\Users\\\\zoeylan\\\\AAA_Zoey_Working\\\\Logs\\\\0000\\\\0200\\\\000000.log', 'C:\\\\Users\\\\zoeylan\\\\AAA_Zoey_Working\\\\Logs\\\\0000\\\\0200\\\\000001.log', 'C:\\\\Users\\\\zoeylan\\\\AAA_Zoey_Working\\\\Logs\\\\0000\\\\0200\\\\000002.log', 'C:\\\\Users\\\\zoeylan\\\\AAA_Zoey_Working\\\\Logs\\\\0000\\\\0200\\\\000003.log', 'C:\\\\Users\\\\zoeylan\\\\AAA_Zoey_Working\\\\Logs\\\\0000\\\\0200\\\\000004.log', 'C:\\\\Users\\\\zoeylan\\\\AAA_Zoey_Working\\\\Logs\\\\0000\\\\0200\\\\000005.log', 'C:\\\\Users\\\\zoeylan\\\\AAA_Zoey_Working\\\\Logs\\\\0000\\\\0200\\\\000006.log', 'C:\\\\Users\\\\zoeylan\\\\AAA_Zoey_Working\\\\Logs\\\\0000\\\\0200\\\\000007.log', 'C:\\\\Users\\\\zoeylan\\\\AAA_Zoey_Working\\\\Logs\\\\0000\\\\0200\\\\000008.log', 'C:\\\\Users\\\\zoeylan\\\\AAA_Zoey_Working\\\\Logs\\\\0000\\\\0200\\\\000009.log', 'C:\\\\Users\\\\zoeylan\\\\AAA_Zoey_Working\\\\Logs\\\\0000\\\\0200\\\\000010.log', 'C:\\\\Users\\\\zoeylan\\\\AAA_Zoey_Working\\\\Logs\\\\0000\\\\0200\\\\000011.log', 'C:\\\\Users\\\\zoeylan\\\\AAA_Zoey_Working\\\\Logs\\\\0000\\\\0200\\\\000012.log', 'C:\\\\Users\\\\zoeylan\\\\AAA_Zoey_Working\\\\Logs\\\\0000\\\\0200\\\\000013.log', 'C:\\\\Users\\\\zoeylan\\\\AAA_Zoey_Working\\\\Logs\\\\0000\\\\0200\\\\000014.log', 'C:\\\\Users\\\\zoeylan\\\\AAA_Zoey_Working\\\\Logs\\\\0000\\\\0200\\\\000015.log', 'C:\\\\Users\\\\zoeylan\\\\AAA_Zoey_Working\\\\Logs\\\\0000\\\\0200\\\\000016.log'], ['C:\\\\Users\\\\zoeylan\\\\AAA_Zoey_Working\\\\Logs\\\\0000\\\\0300\\\\000000.log', 'C:\\\\Users\\\\zoeylan\\\\AAA_Zoey_Working\\\\Logs\\\\0000\\\\0300\\\\000001.log', 'C:\\\\Users\\\\zoeylan\\\\AAA_Zoey_Working\\\\Logs\\\\0000\\\\0300\\\\000002.log', 'C:\\\\Users\\\\zoeylan\\\\AAA_Zoey_Working\\\\Logs\\\\0000\\\\0300\\\\000003.log', 'C:\\\\Users\\\\zoeylan\\\\AAA_Zoey_Working\\\\Logs\\\\0000\\\\0300\\\\000004.log', 'C:\\\\Users\\\\zoeylan\\\\AAA_Zoey_Working\\\\Logs\\\\0000\\\\0300\\\\000005.log', 'C:\\\\Users\\\\zoeylan\\\\AAA_Zoey_Working\\\\Logs\\\\0000\\\\0300\\\\000006.log', 'C:\\\\Users\\\\zoeylan\\\\AAA_Zoey_Working\\\\Logs\\\\0000\\\\0300\\\\000007.log', 'C:\\\\Users\\\\zoeylan\\\\AAA_Zoey_Working\\\\Logs\\\\0000\\\\0300\\\\000008.log', 'C:\\\\Users\\\\zoeylan\\\\AAA_Zoey_Working\\\\Logs\\\\0000\\\\0300\\\\000009.log', 'C:\\\\Users\\\\zoeylan\\\\AAA_Zoey_Working\\\\Logs\\\\0000\\\\0300\\\\000010.log', 'C:\\\\Users\\\\zoeylan\\\\AAA_Zoey_Working\\\\Logs\\\\0000\\\\0300\\\\000011.log', 'C:\\\\Users\\\\zoeylan\\\\AAA_Zoey_Working\\\\Logs\\\\0000\\\\0300\\\\000012.log', 'C:\\\\Users\\\\zoeylan\\\\AAA_Zoey_Working\\\\Logs\\\\0000\\\\0300\\\\000013.log', 'C:\\\\Users\\\\zoeylan\\\\AAA_Zoey_Working\\\\Logs\\\\0000\\\\0300\\\\000014.log', 'C:\\\\Users\\\\zoeylan\\\\AAA_Zoey_Working\\\\Logs\\\\0000\\\\0300\\\\000015.log', 'C:\\\\Users\\\\zoeylan\\\\AAA_Zoey_Working\\\\Logs\\\\0000\\\\0300\\\\000016.log', 'C:\\\\Users\\\\zoeylan\\\\AAA_Zoey_Working\\\\Logs\\\\0000\\\\0300\\\\000017.log', 'C:\\\\Users\\\\zoeylan\\\\AAA_Zoey_Working\\\\Logs\\\\0000\\\\0300\\\\000018.log', 'C:\\\\Users\\\\zoeylan\\\\AAA_Zoey_Working\\\\Logs\\\\0000\\\\0300\\\\000019.log'], ['C:\\\\Users\\\\zoeylan\\\\AAA_Zoey_Working\\\\Logs\\\\0000\\\\0400\\\\000000.log', 'C:\\\\Users\\\\zoeylan\\\\AAA_Zoey_Working\\\\Logs\\\\0000\\\\0400\\\\000001.log', 'C:\\\\Users\\\\zoeylan\\\\AAA_Zoey_Working\\\\Logs\\\\0000\\\\0400\\\\000002.log', 'C:\\\\Users\\\\zoeylan\\\\AAA_Zoey_Working\\\\Logs\\\\0000\\\\0400\\\\000003.log', 'C:\\\\Users\\\\zoeylan\\\\AAA_Zoey_Working\\\\Logs\\\\0000\\\\0400\\\\000004.log', 'C:\\\\Users\\\\zoeylan\\\\AAA_Zoey_Working\\\\Logs\\\\0000\\\\0400\\\\000005.log', 'C:\\\\Users\\\\zoeylan\\\\AAA_Zoey_Working\\\\Logs\\\\0000\\\\0400\\\\000006.log', 'C:\\\\Users\\\\zoeylan\\\\AAA_Zoey_Working\\\\Logs\\\\0000\\\\0400\\\\000007.log', 'C:\\\\Users\\\\zoeylan\\\\AAA_Zoey_Working\\\\Logs\\\\0000\\\\0400\\\\000008.log', 'C:\\\\Users\\\\zoeylan\\\\AAA_Zoey_Working\\\\Logs\\\\0000\\\\0400\\\\000009.log', 'C:\\\\Users\\\\zoeylan\\\\AAA_Zoey_Working\\\\Logs\\\\0000\\\\0400\\\\000010.log', 'C:\\\\Users\\\\zoeylan\\\\AAA_Zoey_Working\\\\Logs\\\\0000\\\\0400\\\\000011.log', 'C:\\\\Users\\\\zoeylan\\\\AAA_Zoey_Working\\\\Logs\\\\0000\\\\0400\\\\000012.log'], ['C:\\\\Users\\\\zoeylan\\\\AAA_Zoey_Working\\\\Logs\\\\0000\\\\0500\\\\000000.log', 'C:\\\\Users\\\\zoeylan\\\\AAA_Zoey_Working\\\\Logs\\\\0000\\\\0500\\\\000001.log', 'C:\\\\Users\\\\zoeylan\\\\AAA_Zoey_Working\\\\Logs\\\\0000\\\\0500\\\\000002.log', 'C:\\\\Users\\\\zoeylan\\\\AAA_Zoey_Working\\\\Logs\\\\0000\\\\0500\\\\000003.log', 'C:\\\\Users\\\\zoeylan\\\\AAA_Zoey_Working\\\\Logs\\\\0000\\\\0500\\\\000004.log', 'C:\\\\Users\\\\zoeylan\\\\AAA_Zoey_Working\\\\Logs\\\\0000\\\\0500\\\\000005.log', 'C:\\\\Users\\\\zoeylan\\\\AAA_Zoey_Working\\\\Logs\\\\0000\\\\0500\\\\000006.log', 'C:\\\\Users\\\\zoeylan\\\\AAA_Zoey_Working\\\\Logs\\\\0000\\\\0500\\\\000007.log', 'C:\\\\Users\\\\zoeylan\\\\AAA_Zoey_Working\\\\Logs\\\\0000\\\\0500\\\\000008.log', 'C:\\\\Users\\\\zoeylan\\\\AAA_Zoey_Working\\\\Logs\\\\0000\\\\0500\\\\000009.log', 'C:\\\\Users\\\\zoeylan\\\\AAA_Zoey_Working\\\\Logs\\\\0000\\\\0500\\\\000010.log', 'C:\\\\Users\\\\zoeylan\\\\AAA_Zoey_Working\\\\Logs\\\\0000\\\\0500\\\\000011.log', 'C:\\\\Users\\\\zoeylan\\\\AAA_Zoey_Working\\\\Logs\\\\0000\\\\0500\\\\000012.log', 'C:\\\\Users\\\\zoeylan\\\\AAA_Zoey_Working\\\\Logs\\\\0000\\\\0500\\\\000013.log', 'C:\\\\Users\\\\zoeylan\\\\AAA_Zoey_Working\\\\Logs\\\\0000\\\\0500\\\\000014.log', 'C:\\\\Users\\\\zoeylan\\\\AAA_Zoey_Working\\\\Logs\\\\0000\\\\0500\\\\000015.log'], ['C:\\\\Users\\\\zoeylan\\\\AAA_Zoey_Working\\\\Logs\\\\0600\\\\0600\\\\000000.log', 'C:\\\\Users\\\\zoeylan\\\\AAA_Zoey_Working\\\\Logs\\\\0600\\\\0600\\\\000001.log', 'C:\\\\Users\\\\zoeylan\\\\AAA_Zoey_Working\\\\Logs\\\\0600\\\\0600\\\\000002.log', 'C:\\\\Users\\\\zoeylan\\\\AAA_Zoey_Working\\\\Logs\\\\0600\\\\0600\\\\000003.log', 'C:\\\\Users\\\\zoeylan\\\\AAA_Zoey_Working\\\\Logs\\\\0600\\\\0600\\\\000004.log', 'C:\\\\Users\\\\zoeylan\\\\AAA_Zoey_Working\\\\Logs\\\\0600\\\\0600\\\\000005.log', 'C:\\\\Users\\\\zoeylan\\\\AAA_Zoey_Working\\\\Logs\\\\0600\\\\0600\\\\000006.log', 'C:\\\\Users\\\\zoeylan\\\\AAA_Zoey_Working\\\\Logs\\\\0600\\\\0600\\\\000007.log', 'C:\\\\Users\\\\zoeylan\\\\AAA_Zoey_Working\\\\Logs\\\\0600\\\\0600\\\\000008.log', 'C:\\\\Users\\\\zoeylan\\\\AAA_Zoey_Working\\\\Logs\\\\0600\\\\0600\\\\000009.log', 'C:\\\\Users\\\\zoeylan\\\\AAA_Zoey_Working\\\\Logs\\\\0600\\\\0600\\\\000010.log', 'C:\\\\Users\\\\zoeylan\\\\AAA_Zoey_Working\\\\Logs\\\\0600\\\\0600\\\\000011.log', 'C:\\\\Users\\\\zoeylan\\\\AAA_Zoey_Working\\\\Logs\\\\0600\\\\0600\\\\000012.log', 'C:\\\\Users\\\\zoeylan\\\\AAA_Zoey_Working\\\\Logs\\\\0600\\\\0600\\\\000013.log', 'C:\\\\Users\\\\zoeylan\\\\AAA_Zoey_Working\\\\Logs\\\\0600\\\\0600\\\\000014.log', 'C:\\\\Users\\\\zoeylan\\\\AAA_Zoey_Working\\\\Logs\\\\0600\\\\0600\\\\000015.log', 'C:\\\\Users\\\\zoeylan\\\\AAA_Zoey_Working\\\\Logs\\\\0600\\\\0600\\\\000016.log'], ['C:\\\\Users\\\\zoeylan\\\\AAA_Zoey_Working\\\\Logs\\\\0600\\\\0700\\\\000000.log', 'C:\\\\Users\\\\zoeylan\\\\AAA_Zoey_Working\\\\Logs\\\\0600\\\\0700\\\\000001.log', 'C:\\\\Users\\\\zoeylan\\\\AAA_Zoey_Working\\\\Logs\\\\0600\\\\0700\\\\000002.log', 'C:\\\\Users\\\\zoeylan\\\\AAA_Zoey_Working\\\\Logs\\\\0600\\\\0700\\\\000003.log', 'C:\\\\Users\\\\zoeylan\\\\AAA_Zoey_Working\\\\Logs\\\\0600\\\\0700\\\\000004.log', 'C:\\\\Users\\\\zoeylan\\\\AAA_Zoey_Working\\\\Logs\\\\0600\\\\0700\\\\000005.log', 'C:\\\\Users\\\\zoeylan\\\\AAA_Zoey_Working\\\\Logs\\\\0600\\\\0700\\\\000006.log', 'C:\\\\Users\\\\zoeylan\\\\AAA_Zoey_Working\\\\Logs\\\\0600\\\\0700\\\\000007.log', 'C:\\\\Users\\\\zoeylan\\\\AAA_Zoey_Working\\\\Logs\\\\0600\\\\0700\\\\000008.log', 'C:\\\\Users\\\\zoeylan\\\\AAA_Zoey_Working\\\\Logs\\\\0600\\\\0700\\\\000009.log', 'C:\\\\Users\\\\zoeylan\\\\AAA_Zoey_Working\\\\Logs\\\\0600\\\\0700\\\\000010.log', 'C:\\\\Users\\\\zoeylan\\\\AAA_Zoey_Working\\\\Logs\\\\0600\\\\0700\\\\000011.log', 'C:\\\\Users\\\\zoeylan\\\\AAA_Zoey_Working\\\\Logs\\\\0600\\\\0700\\\\000012.log', 'C:\\\\Users\\\\zoeylan\\\\AAA_Zoey_Working\\\\Logs\\\\0600\\\\0700\\\\000013.log', 'C:\\\\Users\\\\zoeylan\\\\AAA_Zoey_Working\\\\Logs\\\\0600\\\\0700\\\\000014.log', 'C:\\\\Users\\\\zoeylan\\\\AAA_Zoey_Working\\\\Logs\\\\0600\\\\0700\\\\000015.log'], ['C:\\\\Users\\\\zoeylan\\\\AAA_Zoey_Working\\\\Logs\\\\0600\\\\0800\\\\000000.log', 'C:\\\\Users\\\\zoeylan\\\\AAA_Zoey_Working\\\\Logs\\\\0600\\\\0800\\\\000001.log', 'C:\\\\Users\\\\zoeylan\\\\AAA_Zoey_Working\\\\Logs\\\\0600\\\\0800\\\\000002.log', 'C:\\\\Users\\\\zoeylan\\\\AAA_Zoey_Working\\\\Logs\\\\0600\\\\0800\\\\000003.log', 'C:\\\\Users\\\\zoeylan\\\\AAA_Zoey_Working\\\\Logs\\\\0600\\\\0800\\\\000004.log', 'C:\\\\Users\\\\zoeylan\\\\AAA_Zoey_Working\\\\Logs\\\\0600\\\\0800\\\\000005.log', 'C:\\\\Users\\\\zoeylan\\\\AAA_Zoey_Working\\\\Logs\\\\0600\\\\0800\\\\000006.log', 'C:\\\\Users\\\\zoeylan\\\\AAA_Zoey_Working\\\\Logs\\\\0600\\\\0800\\\\000007.log', 'C:\\\\Users\\\\zoeylan\\\\AAA_Zoey_Working\\\\Logs\\\\0600\\\\0800\\\\000008.log', 'C:\\\\Users\\\\zoeylan\\\\AAA_Zoey_Working\\\\Logs\\\\0600\\\\0800\\\\000009.log', 'C:\\\\Users\\\\zoeylan\\\\AAA_Zoey_Working\\\\Logs\\\\0600\\\\0800\\\\000010.log', 'C:\\\\Users\\\\zoeylan\\\\AAA_Zoey_Working\\\\Logs\\\\0600\\\\0800\\\\000011.log', 'C:\\\\Users\\\\zoeylan\\\\AAA_Zoey_Working\\\\Logs\\\\0600\\\\0800\\\\000012.log'], ['C:\\\\Users\\\\zoeylan\\\\AAA_Zoey_Working\\\\Logs\\\\0600\\\\0900\\\\000000.log', 'C:\\\\Users\\\\zoeylan\\\\AAA_Zoey_Working\\\\Logs\\\\0600\\\\0900\\\\000001.log', 'C:\\\\Users\\\\zoeylan\\\\AAA_Zoey_Working\\\\Logs\\\\0600\\\\0900\\\\000002.log', 'C:\\\\Users\\\\zoeylan\\\\AAA_Zoey_Working\\\\Logs\\\\0600\\\\0900\\\\000003.log', 'C:\\\\Users\\\\zoeylan\\\\AAA_Zoey_Working\\\\Logs\\\\0600\\\\0900\\\\000004.log', 'C:\\\\Users\\\\zoeylan\\\\AAA_Zoey_Working\\\\Logs\\\\0600\\\\0900\\\\000005.log', 'C:\\\\Users\\\\zoeylan\\\\AAA_Zoey_Working\\\\Logs\\\\0600\\\\0900\\\\000006.log', 'C:\\\\Users\\\\zoeylan\\\\AAA_Zoey_Working\\\\Logs\\\\0600\\\\0900\\\\000007.log', 'C:\\\\Users\\\\zoeylan\\\\AAA_Zoey_Working\\\\Logs\\\\0600\\\\0900\\\\000008.log', 'C:\\\\Users\\\\zoeylan\\\\AAA_Zoey_Working\\\\Logs\\\\0600\\\\0900\\\\000009.log', 'C:\\\\Users\\\\zoeylan\\\\AAA_Zoey_Working\\\\Logs\\\\0600\\\\0900\\\\000010.log', 'C:\\\\Users\\\\zoeylan\\\\AAA_Zoey_Working\\\\Logs\\\\0600\\\\0900\\\\000011.log', 'C:\\\\Users\\\\zoeylan\\\\AAA_Zoey_Working\\\\Logs\\\\0600\\\\0900\\\\000012.log', 'C:\\\\Users\\\\zoeylan\\\\AAA_Zoey_Working\\\\Logs\\\\0600\\\\0900\\\\000013.log', 'C:\\\\Users\\\\zoeylan\\\\AAA_Zoey_Working\\\\Logs\\\\0600\\\\0900\\\\000014.log', 'C:\\\\Users\\\\zoeylan\\\\AAA_Zoey_Working\\\\Logs\\\\0600\\\\0900\\\\000015.log'], ['C:\\\\Users\\\\zoeylan\\\\AAA_Zoey_Working\\\\Logs\\\\0600\\\\1000\\\\000000.log', 'C:\\\\Users\\\\zoeylan\\\\AAA_Zoey_Working\\\\Logs\\\\0600\\\\1000\\\\000001.log', 'C:\\\\Users\\\\zoeylan\\\\AAA_Zoey_Working\\\\Logs\\\\0600\\\\1000\\\\000002.log', 'C:\\\\Users\\\\zoeylan\\\\AAA_Zoey_Working\\\\Logs\\\\0600\\\\1000\\\\000003.log', 'C:\\\\Users\\\\zoeylan\\\\AAA_Zoey_Working\\\\Logs\\\\0600\\\\1000\\\\000004.log', 'C:\\\\Users\\\\zoeylan\\\\AAA_Zoey_Working\\\\Logs\\\\0600\\\\1000\\\\000005.log', 'C:\\\\Users\\\\zoeylan\\\\AAA_Zoey_Working\\\\Logs\\\\0600\\\\1000\\\\000006.log', 'C:\\\\Users\\\\zoeylan\\\\AAA_Zoey_Working\\\\Logs\\\\0600\\\\1000\\\\000007.log', 'C:\\\\Users\\\\zoeylan\\\\AAA_Zoey_Working\\\\Logs\\\\0600\\\\1000\\\\000008.log', 'C:\\\\Users\\\\zoeylan\\\\AAA_Zoey_Working\\\\Logs\\\\0600\\\\1000\\\\000009.log'], ['C:\\\\Users\\\\zoeylan\\\\AAA_Zoey_Working\\\\Logs\\\\0600\\\\1100\\\\000000.log', 'C:\\\\Users\\\\zoeylan\\\\AAA_Zoey_Working\\\\Logs\\\\0600\\\\1100\\\\000001.log', 'C:\\\\Users\\\\zoeylan\\\\AAA_Zoey_Working\\\\Logs\\\\0600\\\\1100\\\\000002.log', 'C:\\\\Users\\\\zoeylan\\\\AAA_Zoey_Working\\\\Logs\\\\0600\\\\1100\\\\000003.log', 'C:\\\\Users\\\\zoeylan\\\\AAA_Zoey_Working\\\\Logs\\\\0600\\\\1100\\\\000004.log', 'C:\\\\Users\\\\zoeylan\\\\AAA_Zoey_Working\\\\Logs\\\\0600\\\\1100\\\\000005.log', 'C:\\\\Users\\\\zoeylan\\\\AAA_Zoey_Working\\\\Logs\\\\0600\\\\1100\\\\000006.log', 'C:\\\\Users\\\\zoeylan\\\\AAA_Zoey_Working\\\\Logs\\\\0600\\\\1100\\\\000007.log', 'C:\\\\Users\\\\zoeylan\\\\AAA_Zoey_Working\\\\Logs\\\\0600\\\\1100\\\\000008.log', 'C:\\\\Users\\\\zoeylan\\\\AAA_Zoey_Working\\\\Logs\\\\0600\\\\1100\\\\000009.log', 'C:\\\\Users\\\\zoeylan\\\\AAA_Zoey_Working\\\\Logs\\\\0600\\\\1100\\\\000010.log', 'C:\\\\Users\\\\zoeylan\\\\AAA_Zoey_Working\\\\Logs\\\\0600\\\\1100\\\\000011.log'], ['C:\\\\Users\\\\zoeylan\\\\AAA_Zoey_Working\\\\Logs\\\\1200\\\\1200\\\\000000.log', 'C:\\\\Users\\\\zoeylan\\\\AAA_Zoey_Working\\\\Logs\\\\1200\\\\1200\\\\000001.log', 'C:\\\\Users\\\\zoeylan\\\\AAA_Zoey_Working\\\\Logs\\\\1200\\\\1200\\\\000002.log', 'C:\\\\Users\\\\zoeylan\\\\AAA_Zoey_Working\\\\Logs\\\\1200\\\\1200\\\\000003.log', 'C:\\\\Users\\\\zoeylan\\\\AAA_Zoey_Working\\\\Logs\\\\1200\\\\1200\\\\000004.log', 'C:\\\\Users\\\\zoeylan\\\\AAA_Zoey_Working\\\\Logs\\\\1200\\\\1200\\\\000005.log', 'C:\\\\Users\\\\zoeylan\\\\AAA_Zoey_Working\\\\Logs\\\\1200\\\\1200\\\\000006.log', 'C:\\\\Users\\\\zoeylan\\\\AAA_Zoey_Working\\\\Logs\\\\1200\\\\1200\\\\000007.log', 'C:\\\\Users\\\\zoeylan\\\\AAA_Zoey_Working\\\\Logs\\\\1200\\\\1200\\\\000008.log', 'C:\\\\Users\\\\zoeylan\\\\AAA_Zoey_Working\\\\Logs\\\\1200\\\\1200\\\\000009.log'], ['C:\\\\Users\\\\zoeylan\\\\AAA_Zoey_Working\\\\Logs\\\\1200\\\\1300\\\\000000.log', 'C:\\\\Users\\\\zoeylan\\\\AAA_Zoey_Working\\\\Logs\\\\1200\\\\1300\\\\000001.log', 'C:\\\\Users\\\\zoeylan\\\\AAA_Zoey_Working\\\\Logs\\\\1200\\\\1300\\\\000002.log', 'C:\\\\Users\\\\zoeylan\\\\AAA_Zoey_Working\\\\Logs\\\\1200\\\\1300\\\\000003.log', 'C:\\\\Users\\\\zoeylan\\\\AAA_Zoey_Working\\\\Logs\\\\1200\\\\1300\\\\000004.log', 'C:\\\\Users\\\\zoeylan\\\\AAA_Zoey_Working\\\\Logs\\\\1200\\\\1300\\\\000005.log', 'C:\\\\Users\\\\zoeylan\\\\AAA_Zoey_Working\\\\Logs\\\\1200\\\\1300\\\\000006.log', 'C:\\\\Users\\\\zoeylan\\\\AAA_Zoey_Working\\\\Logs\\\\1200\\\\1300\\\\000007.log', 'C:\\\\Users\\\\zoeylan\\\\AAA_Zoey_Working\\\\Logs\\\\1200\\\\1300\\\\000008.log', 'C:\\\\Users\\\\zoeylan\\\\AAA_Zoey_Working\\\\Logs\\\\1200\\\\1300\\\\000009.log', 'C:\\\\Users\\\\zoeylan\\\\AAA_Zoey_Working\\\\Logs\\\\1200\\\\1300\\\\000010.log', 'C:\\\\Users\\\\zoeylan\\\\AAA_Zoey_Working\\\\Logs\\\\1200\\\\1300\\\\000011.log', 'C:\\\\Users\\\\zoeylan\\\\AAA_Zoey_Working\\\\Logs\\\\1200\\\\1300\\\\000012.log'], ['C:\\\\Users\\\\zoeylan\\\\AAA_Zoey_Working\\\\Logs\\\\1200\\\\1400\\\\000000.log', 'C:\\\\Users\\\\zoeylan\\\\AAA_Zoey_Working\\\\Logs\\\\1200\\\\1400\\\\000001.log', 'C:\\\\Users\\\\zoeylan\\\\AAA_Zoey_Working\\\\Logs\\\\1200\\\\1400\\\\000002.log', 'C:\\\\Users\\\\zoeylan\\\\AAA_Zoey_Working\\\\Logs\\\\1200\\\\1400\\\\000003.log', 'C:\\\\Users\\\\zoeylan\\\\AAA_Zoey_Working\\\\Logs\\\\1200\\\\1400\\\\000004.log', 'C:\\\\Users\\\\zoeylan\\\\AAA_Zoey_Working\\\\Logs\\\\1200\\\\1400\\\\000005.log', 'C:\\\\Users\\\\zoeylan\\\\AAA_Zoey_Working\\\\Logs\\\\1200\\\\1400\\\\000006.log', 'C:\\\\Users\\\\zoeylan\\\\AAA_Zoey_Working\\\\Logs\\\\1200\\\\1400\\\\000007.log', 'C:\\\\Users\\\\zoeylan\\\\AAA_Zoey_Working\\\\Logs\\\\1200\\\\1400\\\\000008.log', 'C:\\\\Users\\\\zoeylan\\\\AAA_Zoey_Working\\\\Logs\\\\1200\\\\1400\\\\000009.log', 'C:\\\\Users\\\\zoeylan\\\\AAA_Zoey_Working\\\\Logs\\\\1200\\\\1400\\\\000010.log', 'C:\\\\Users\\\\zoeylan\\\\AAA_Zoey_Working\\\\Logs\\\\1200\\\\1400\\\\000011.log'], ['C:\\\\Users\\\\zoeylan\\\\AAA_Zoey_Working\\\\Logs\\\\1200\\\\1500\\\\000000.log', 'C:\\\\Users\\\\zoeylan\\\\AAA_Zoey_Working\\\\Logs\\\\1200\\\\1500\\\\000001.log', 'C:\\\\Users\\\\zoeylan\\\\AAA_Zoey_Working\\\\Logs\\\\1200\\\\1500\\\\000002.log', 'C:\\\\Users\\\\zoeylan\\\\AAA_Zoey_Working\\\\Logs\\\\1200\\\\1500\\\\000003.log', 'C:\\\\Users\\\\zoeylan\\\\AAA_Zoey_Working\\\\Logs\\\\1200\\\\1500\\\\000004.log', 'C:\\\\Users\\\\zoeylan\\\\AAA_Zoey_Working\\\\Logs\\\\1200\\\\1500\\\\000005.log', 'C:\\\\Users\\\\zoeylan\\\\AAA_Zoey_Working\\\\Logs\\\\1200\\\\1500\\\\000006.log', 'C:\\\\Users\\\\zoeylan\\\\AAA_Zoey_Working\\\\Logs\\\\1200\\\\1500\\\\000007.log', 'C:\\\\Users\\\\zoeylan\\\\AAA_Zoey_Working\\\\Logs\\\\1200\\\\1500\\\\000008.log', 'C:\\\\Users\\\\zoeylan\\\\AAA_Zoey_Working\\\\Logs\\\\1200\\\\1500\\\\000009.log', 'C:\\\\Users\\\\zoeylan\\\\AAA_Zoey_Working\\\\Logs\\\\1200\\\\1500\\\\000010.log', 'C:\\\\Users\\\\zoeylan\\\\AAA_Zoey_Working\\\\Logs\\\\1200\\\\1500\\\\000011.log', 'C:\\\\Users\\\\zoeylan\\\\AAA_Zoey_Working\\\\Logs\\\\1200\\\\1500\\\\000012.log', 'C:\\\\Users\\\\zoeylan\\\\AAA_Zoey_Working\\\\Logs\\\\1200\\\\1500\\\\000013.log', 'C:\\\\Users\\\\zoeylan\\\\AAA_Zoey_Working\\\\Logs\\\\1200\\\\1500\\\\000014.log', 'C:\\\\Users\\\\zoeylan\\\\AAA_Zoey_Working\\\\Logs\\\\1200\\\\1500\\\\000015.log'], ['C:\\\\Users\\\\zoeylan\\\\AAA_Zoey_Working\\\\Logs\\\\1200\\\\1600\\\\000000.log', 'C:\\\\Users\\\\zoeylan\\\\AAA_Zoey_Working\\\\Logs\\\\1200\\\\1600\\\\000001.log', 'C:\\\\Users\\\\zoeylan\\\\AAA_Zoey_Working\\\\Logs\\\\1200\\\\1600\\\\000002.log', 'C:\\\\Users\\\\zoeylan\\\\AAA_Zoey_Working\\\\Logs\\\\1200\\\\1600\\\\000003.log', 'C:\\\\Users\\\\zoeylan\\\\AAA_Zoey_Working\\\\Logs\\\\1200\\\\1600\\\\000004.log', 'C:\\\\Users\\\\zoeylan\\\\AAA_Zoey_Working\\\\Logs\\\\1200\\\\1600\\\\000005.log', 'C:\\\\Users\\\\zoeylan\\\\AAA_Zoey_Working\\\\Logs\\\\1200\\\\1600\\\\000006.log', 'C:\\\\Users\\\\zoeylan\\\\AAA_Zoey_Working\\\\Logs\\\\1200\\\\1600\\\\000007.log', 'C:\\\\Users\\\\zoeylan\\\\AAA_Zoey_Working\\\\Logs\\\\1200\\\\1600\\\\000008.log', 'C:\\\\Users\\\\zoeylan\\\\AAA_Zoey_Working\\\\Logs\\\\1200\\\\1600\\\\000009.log', 'C:\\\\Users\\\\zoeylan\\\\AAA_Zoey_Working\\\\Logs\\\\1200\\\\1600\\\\000010.log', 'C:\\\\Users\\\\zoeylan\\\\AAA_Zoey_Working\\\\Logs\\\\1200\\\\1600\\\\000011.log', 'C:\\\\Users\\\\zoeylan\\\\AAA_Zoey_Working\\\\Logs\\\\1200\\\\1600\\\\000012.log', 'C:\\\\Users\\\\zoeylan\\\\AAA_Zoey_Working\\\\Logs\\\\1200\\\\1600\\\\000013.log', 'C:\\\\Users\\\\zoeylan\\\\AAA_Zoey_Working\\\\Logs\\\\1200\\\\1600\\\\000014.log', 'C:\\\\Users\\\\zoeylan\\\\AAA_Zoey_Working\\\\Logs\\\\1200\\\\1600\\\\000015.log', 'C:\\\\Users\\\\zoeylan\\\\AAA_Zoey_Working\\\\Logs\\\\1200\\\\1600\\\\000016.log', 'C:\\\\Users\\\\zoeylan\\\\AAA_Zoey_Working\\\\Logs\\\\1200\\\\1600\\\\000017.log'], ['C:\\\\Users\\\\zoeylan\\\\AAA_Zoey_Working\\\\Logs\\\\1200\\\\1700\\\\000000.log', 'C:\\\\Users\\\\zoeylan\\\\AAA_Zoey_Working\\\\Logs\\\\1200\\\\1700\\\\000001.log', 'C:\\\\Users\\\\zoeylan\\\\AAA_Zoey_Working\\\\Logs\\\\1200\\\\1700\\\\000002.log', 'C:\\\\Users\\\\zoeylan\\\\AAA_Zoey_Working\\\\Logs\\\\1200\\\\1700\\\\000003.log', 'C:\\\\Users\\\\zoeylan\\\\AAA_Zoey_Working\\\\Logs\\\\1200\\\\1700\\\\000004.log', 'C:\\\\Users\\\\zoeylan\\\\AAA_Zoey_Working\\\\Logs\\\\1200\\\\1700\\\\000005.log', 'C:\\\\Users\\\\zoeylan\\\\AAA_Zoey_Working\\\\Logs\\\\1200\\\\1700\\\\000006.log', 'C:\\\\Users\\\\zoeylan\\\\AAA_Zoey_Working\\\\Logs\\\\1200\\\\1700\\\\000007.log', 'C:\\\\Users\\\\zoeylan\\\\AAA_Zoey_Working\\\\Logs\\\\1200\\\\1700\\\\000008.log', 'C:\\\\Users\\\\zoeylan\\\\AAA_Zoey_Working\\\\Logs\\\\1200\\\\1700\\\\000009.log', 'C:\\\\Users\\\\zoeylan\\\\AAA_Zoey_Working\\\\Logs\\\\1200\\\\1700\\\\000010.log', 'C:\\\\Users\\\\zoeylan\\\\AAA_Zoey_Working\\\\Logs\\\\1200\\\\1700\\\\000011.log', 'C:\\\\Users\\\\zoeylan\\\\AAA_Zoey_Working\\\\Logs\\\\1200\\\\1700\\\\000012.log', 'C:\\\\Users\\\\zoeylan\\\\AAA_Zoey_Working\\\\Logs\\\\1200\\\\1700\\\\000013.log'], ['C:\\\\Users\\\\zoeylan\\\\AAA_Zoey_Working\\\\Logs\\\\1800\\\\1800\\\\000000.log', 'C:\\\\Users\\\\zoeylan\\\\AAA_Zoey_Working\\\\Logs\\\\1800\\\\1800\\\\000001.log', 'C:\\\\Users\\\\zoeylan\\\\AAA_Zoey_Working\\\\Logs\\\\1800\\\\1800\\\\000002.log', 'C:\\\\Users\\\\zoeylan\\\\AAA_Zoey_Working\\\\Logs\\\\1800\\\\1800\\\\000003.log', 'C:\\\\Users\\\\zoeylan\\\\AAA_Zoey_Working\\\\Logs\\\\1800\\\\1800\\\\000004.log', 'C:\\\\Users\\\\zoeylan\\\\AAA_Zoey_Working\\\\Logs\\\\1800\\\\1800\\\\000005.log', 'C:\\\\Users\\\\zoeylan\\\\AAA_Zoey_Working\\\\Logs\\\\1800\\\\1800\\\\000006.log', 'C:\\\\Users\\\\zoeylan\\\\AAA_Zoey_Working\\\\Logs\\\\1800\\\\1800\\\\000007.log', 'C:\\\\Users\\\\zoeylan\\\\AAA_Zoey_Working\\\\Logs\\\\1800\\\\1800\\\\000008.log', 'C:\\\\Users\\\\zoeylan\\\\AAA_Zoey_Working\\\\Logs\\\\1800\\\\1800\\\\000009.log', 'C:\\\\Users\\\\zoeylan\\\\AAA_Zoey_Working\\\\Logs\\\\1800\\\\1800\\\\000010.log', 'C:\\\\Users\\\\zoeylan\\\\AAA_Zoey_Working\\\\Logs\\\\1800\\\\1800\\\\000011.log', 'C:\\\\Users\\\\zoeylan\\\\AAA_Zoey_Working\\\\Logs\\\\1800\\\\1800\\\\000012.log'], ['C:\\\\Users\\\\zoeylan\\\\AAA_Zoey_Working\\\\Logs\\\\1800\\\\1900\\\\000000.log', 'C:\\\\Users\\\\zoeylan\\\\AAA_Zoey_Working\\\\Logs\\\\1800\\\\1900\\\\000001.log', 'C:\\\\Users\\\\zoeylan\\\\AAA_Zoey_Working\\\\Logs\\\\1800\\\\1900\\\\000002.log', 'C:\\\\Users\\\\zoeylan\\\\AAA_Zoey_Working\\\\Logs\\\\1800\\\\1900\\\\000003.log', 'C:\\\\Users\\\\zoeylan\\\\AAA_Zoey_Working\\\\Logs\\\\1800\\\\1900\\\\000004.log', 'C:\\\\Users\\\\zoeylan\\\\AAA_Zoey_Working\\\\Logs\\\\1800\\\\1900\\\\000005.log', 'C:\\\\Users\\\\zoeylan\\\\AAA_Zoey_Working\\\\Logs\\\\1800\\\\1900\\\\000006.log', 'C:\\\\Users\\\\zoeylan\\\\AAA_Zoey_Working\\\\Logs\\\\1800\\\\1900\\\\000007.log', 'C:\\\\Users\\\\zoeylan\\\\AAA_Zoey_Working\\\\Logs\\\\1800\\\\1900\\\\000008.log', 'C:\\\\Users\\\\zoeylan\\\\AAA_Zoey_Working\\\\Logs\\\\1800\\\\1900\\\\000009.log', 'C:\\\\Users\\\\zoeylan\\\\AAA_Zoey_Working\\\\Logs\\\\1800\\\\1900\\\\000010.log', 'C:\\\\Users\\\\zoeylan\\\\AAA_Zoey_Working\\\\Logs\\\\1800\\\\1900\\\\000011.log'], ['C:\\\\Users\\\\zoeylan\\\\AAA_Zoey_Working\\\\Logs\\\\1800\\\\2000\\\\000000.log', 'C:\\\\Users\\\\zoeylan\\\\AAA_Zoey_Working\\\\Logs\\\\1800\\\\2000\\\\000001.log', 'C:\\\\Users\\\\zoeylan\\\\AAA_Zoey_Working\\\\Logs\\\\1800\\\\2000\\\\000002.log', 'C:\\\\Users\\\\zoeylan\\\\AAA_Zoey_Working\\\\Logs\\\\1800\\\\2000\\\\000003.log', 'C:\\\\Users\\\\zoeylan\\\\AAA_Zoey_Working\\\\Logs\\\\1800\\\\2000\\\\000004.log', 'C:\\\\Users\\\\zoeylan\\\\AAA_Zoey_Working\\\\Logs\\\\1800\\\\2000\\\\000005.log', 'C:\\\\Users\\\\zoeylan\\\\AAA_Zoey_Working\\\\Logs\\\\1800\\\\2000\\\\000006.log', 'C:\\\\Users\\\\zoeylan\\\\AAA_Zoey_Working\\\\Logs\\\\1800\\\\2000\\\\000007.log', 'C:\\\\Users\\\\zoeylan\\\\AAA_Zoey_Working\\\\Logs\\\\1800\\\\2000\\\\000008.log', 'C:\\\\Users\\\\zoeylan\\\\AAA_Zoey_Working\\\\Logs\\\\1800\\\\2000\\\\000009.log'], ['C:\\\\Users\\\\zoeylan\\\\AAA_Zoey_Working\\\\Logs\\\\1800\\\\2100\\\\000000.log', 'C:\\\\Users\\\\zoeylan\\\\AAA_Zoey_Working\\\\Logs\\\\1800\\\\2100\\\\000001.log', 'C:\\\\Users\\\\zoeylan\\\\AAA_Zoey_Working\\\\Logs\\\\1800\\\\2100\\\\000002.log', 'C:\\\\Users\\\\zoeylan\\\\AAA_Zoey_Working\\\\Logs\\\\1800\\\\2100\\\\000003.log', 'C:\\\\Users\\\\zoeylan\\\\AAA_Zoey_Working\\\\Logs\\\\1800\\\\2100\\\\000004.log', 'C:\\\\Users\\\\zoeylan\\\\AAA_Zoey_Working\\\\Logs\\\\1800\\\\2100\\\\000005.log', 'C:\\\\Users\\\\zoeylan\\\\AAA_Zoey_Working\\\\Logs\\\\1800\\\\2100\\\\000006.log', 'C:\\\\Users\\\\zoeylan\\\\AAA_Zoey_Working\\\\Logs\\\\1800\\\\2100\\\\000007.log', 'C:\\\\Users\\\\zoeylan\\\\AAA_Zoey_Working\\\\Logs\\\\1800\\\\2100\\\\000008.log', 'C:\\\\Users\\\\zoeylan\\\\AAA_Zoey_Working\\\\Logs\\\\1800\\\\2100\\\\000009.log', 'C:\\\\Users\\\\zoeylan\\\\AAA_Zoey_Working\\\\Logs\\\\1800\\\\2100\\\\000010.log', 'C:\\\\Users\\\\zoeylan\\\\AAA_Zoey_Working\\\\Logs\\\\1800\\\\2100\\\\000011.log', 'C:\\\\Users\\\\zoeylan\\\\AAA_Zoey_Working\\\\Logs\\\\1800\\\\2100\\\\000012.log', 'C:\\\\Users\\\\zoeylan\\\\AAA_Zoey_Working\\\\Logs\\\\1800\\\\2100\\\\000013.log', 'C:\\\\Users\\\\zoeylan\\\\AAA_Zoey_Working\\\\Logs\\\\1800\\\\2100\\\\000014.log', 'C:\\\\Users\\\\zoeylan\\\\AAA_Zoey_Working\\\\Logs\\\\1800\\\\2100\\\\000015.log', 'C:\\\\Users\\\\zoeylan\\\\AAA_Zoey_Working\\\\Logs\\\\1800\\\\2100\\\\000016.log'], ['C:\\\\Users\\\\zoeylan\\\\AAA_Zoey_Working\\\\Logs\\\\1800\\\\2200\\\\000000.log', 'C:\\\\Users\\\\zoeylan\\\\AAA_Zoey_Working\\\\Logs\\\\1800\\\\2200\\\\000001.log', 'C:\\\\Users\\\\zoeylan\\\\AAA_Zoey_Working\\\\Logs\\\\1800\\\\2200\\\\000002.log', 'C:\\\\Users\\\\zoeylan\\\\AAA_Zoey_Working\\\\Logs\\\\1800\\\\2200\\\\000003.log', 'C:\\\\Users\\\\zoeylan\\\\AAA_Zoey_Working\\\\Logs\\\\1800\\\\2200\\\\000004.log', 'C:\\\\Users\\\\zoeylan\\\\AAA_Zoey_Working\\\\Logs\\\\1800\\\\2200\\\\000005.log', 'C:\\\\Users\\\\zoeylan\\\\AAA_Zoey_Working\\\\Logs\\\\1800\\\\2200\\\\000006.log', 'C:\\\\Users\\\\zoeylan\\\\AAA_Zoey_Working\\\\Logs\\\\1800\\\\2200\\\\000007.log', 'C:\\\\Users\\\\zoeylan\\\\AAA_Zoey_Working\\\\Logs\\\\1800\\\\2200\\\\000008.log', 'C:\\\\Users\\\\zoeylan\\\\AAA_Zoey_Working\\\\Logs\\\\1800\\\\2200\\\\000009.log', 'C:\\\\Users\\\\zoeylan\\\\AAA_Zoey_Working\\\\Logs\\\\1800\\\\2200\\\\000010.log', 'C:\\\\Users\\\\zoeylan\\\\AAA_Zoey_Working\\\\Logs\\\\1800\\\\2200\\\\000011.log'], ['C:\\\\Users\\\\zoeylan\\\\AAA_Zoey_Working\\\\Logs\\\\1800\\\\2300\\\\000000.log', 'C:\\\\Users\\\\zoeylan\\\\AAA_Zoey_Working\\\\Logs\\\\1800\\\\2300\\\\000001.log', 'C:\\\\Users\\\\zoeylan\\\\AAA_Zoey_Working\\\\Logs\\\\1800\\\\2300\\\\000002.log', 'C:\\\\Users\\\\zoeylan\\\\AAA_Zoey_Working\\\\Logs\\\\1800\\\\2300\\\\000003.log', 'C:\\\\Users\\\\zoeylan\\\\AAA_Zoey_Working\\\\Logs\\\\1800\\\\2300\\\\000004.log', 'C:\\\\Users\\\\zoeylan\\\\AAA_Zoey_Working\\\\Logs\\\\1800\\\\2300\\\\000005.log', 'C:\\\\Users\\\\zoeylan\\\\AAA_Zoey_Working\\\\Logs\\\\1800\\\\2300\\\\000006.log', 'C:\\\\Users\\\\zoeylan\\\\AAA_Zoey_Working\\\\Logs\\\\1800\\\\2300\\\\000007.log', 'C:\\\\Users\\\\zoeylan\\\\AAA_Zoey_Working\\\\Logs\\\\1800\\\\2300\\\\000008.log', 'C:\\\\Users\\\\zoeylan\\\\AAA_Zoey_Working\\\\Logs\\\\1800\\\\2300\\\\000009.log', 'C:\\\\Users\\\\zoeylan\\\\AAA_Zoey_Working\\\\Logs\\\\1800\\\\2300\\\\000010.log', 'C:\\\\Users\\\\zoeylan\\\\AAA_Zoey_Working\\\\Logs\\\\1800\\\\2300\\\\000011.log', 'C:\\\\Users\\\\zoeylan\\\\AAA_Zoey_Working\\\\Logs\\\\1800\\\\2300\\\\000012.log', 'C:\\\\Users\\\\zoeylan\\\\AAA_Zoey_Working\\\\Logs\\\\1800\\\\2300\\\\000013.log', 'C:\\\\Users\\\\zoeylan\\\\AAA_Zoey_Working\\\\Logs\\\\1800\\\\2300\\\\000014.log', 'C:\\\\Users\\\\zoeylan\\\\AAA_Zoey_Working\\\\Logs\\\\1800\\\\2300\\\\000015.log']]\n"
     ]
    }
   ],
   "source": [
    "## Read all the log files ##\n",
    "\n",
    "log_list = []\n",
    "\n",
    "for subfolder in folder_list:\n",
    "    file_list = []\n",
    "    for root, subdirectories, files in os.walk(subfolder):\n",
    "        for file in files:\n",
    "            string = os.path.join(root, file)\n",
    "            if string[-4:] == \".log\":\n",
    "                file_list.append(os.path.join(root, file))\n",
    "    log_list.append(file_list)\n",
    "print(log_list)"
   ]
  },
  {
   "cell_type": "code",
   "execution_count": 8,
   "id": "f7ac3eda",
   "metadata": {},
   "outputs": [],
   "source": [
    "# pd.DataFrame(log_list)"
   ]
  },
  {
   "cell_type": "code",
   "execution_count": 9,
   "id": "bf33ebb6",
   "metadata": {},
   "outputs": [
    {
     "name": "stdout",
     "output_type": "stream",
     "text": [
      "Empty DataFrame\n",
      "Columns: [<requester-ip-address>, <operation-type>]\n",
      "Index: []\n",
      "Empty DataFrame\n",
      "Columns: [<user-object-id>, <operation-type>]\n",
      "Index: []\n"
     ]
    }
   ],
   "source": [
    "## Create two empty dataframes to save final results ##\n",
    "## Two examples here: one table for requester-ip-address and one for user-object-id ##\n",
    "\n",
    "iptable = pd.DataFrame(columns= ['<requester-ip-address>', '<operation-type>'])\n",
    "objectidtable = pd.DataFrame(columns=['<user-object-id>', '<operation-type>'])\n",
    "\n",
    "print(iptable)\n",
    "print(objectidtable)"
   ]
  },
  {
   "cell_type": "code",
   "execution_count": 13,
   "id": "10b9fa45",
   "metadata": {},
   "outputs": [
    {
     "name": "stdout",
     "output_type": "stream",
     "text": [
      "Hour No. 1\n",
      "Hour No. 2\n",
      "Hour No. 3\n",
      "Hour No. 4\n",
      "Hour No. 5\n",
      "Hour No. 6\n",
      "Hour No. 7\n",
      "Hour No. 8\n",
      "Hour No. 9\n",
      "Hour No. 10\n",
      "Hour No. 11\n",
      "Hour No. 12\n",
      "Hour No. 13\n",
      "Hour No. 14\n",
      "Hour No. 15\n",
      "Hour No. 16\n",
      "Hour No. 17\n",
      "Hour No. 18\n",
      "Hour No. 19\n",
      "Hour No. 20\n",
      "Hour No. 21\n",
      "Hour No. 22\n",
      "Hour No. 23\n",
      "Hour No. 24\n"
     ]
    }
   ],
   "source": [
    "## Read in all the logs and combine together in one table ##\n",
    "## Do some filtering and group by work ##\n",
    "\n",
    "i = 1 # Used to check the progress, should be 24 in total here\n",
    "\n",
    "for hourlylog in log_list:\n",
    "    \n",
    "    log_df = pd.DataFrame(columns=header)\n",
    "    print(\"Hour No.\", i)\n",
    "    \n",
    "    for log in hourlylog:\n",
    "        df = pd.read_csv(log, sep=';', low_memory=False, names = header)\n",
    "        log_df = log_df.append(df, ignore_index=True)\n",
    "        \n",
    "        ## Filter out \"AppendFile\" operation only as an example\n",
    "        write = log_df[log_df['<operation-type>'] == 'AppendFile']\n",
    "        \n",
    "        ## Count the total number of requests based on user-object-id & requester-ip-address\n",
    "        objectid = pd.DataFrame(write.groupby(['<user-object-id>'])['<operation-type>'].count()).reset_index()\n",
    "        ip = pd.DataFrame(write.groupby(['<requester-ip-address>'])['<operation-type>'].count()).reset_index()\n",
    "        \n",
    "        objectidtable = objectidtable.append(objectid, ignore_index=True)\n",
    "        iptable = iptable.append(ip, ignore_index=True)\n",
    "        \n",
    "    i = i+1   "
   ]
  },
  {
   "cell_type": "code",
   "execution_count": 17,
   "id": "35bfa340",
   "metadata": {},
   "outputs": [],
   "source": [
    "#iptable"
   ]
  },
  {
   "cell_type": "code",
   "execution_count": 19,
   "id": "837c1f06",
   "metadata": {},
   "outputs": [],
   "source": [
    "## Remove the duplicates and sum up the count ##\n",
    "\n",
    "iptable = pd.DataFrame(iptable.groupby(['<requester-ip-address>'])['<operation-type>'].sum()).reset_index()\n",
    "objectidtable = pd.DataFrame(objectidtable.groupby(['<user-object-id>'])['<operation-type>'].sum()).reset_index()"
   ]
  },
  {
   "cell_type": "code",
   "execution_count": 20,
   "id": "145d79e4",
   "metadata": {},
   "outputs": [
    {
     "data": {
      "text/html": [
       "<div>\n",
       "<style scoped>\n",
       "    .dataframe tbody tr th:only-of-type {\n",
       "        vertical-align: middle;\n",
       "    }\n",
       "\n",
       "    .dataframe tbody tr th {\n",
       "        vertical-align: top;\n",
       "    }\n",
       "\n",
       "    .dataframe thead th {\n",
       "        text-align: right;\n",
       "    }\n",
       "</style>\n",
       "<table border=\"1\" class=\"dataframe\">\n",
       "  <thead>\n",
       "    <tr style=\"text-align: right;\">\n",
       "      <th></th>\n",
       "      <th>&lt;user-object-id&gt;</th>\n",
       "      <th>&lt;operation-type&gt;</th>\n",
       "    </tr>\n",
       "  </thead>\n",
       "  <tbody>\n",
       "    <tr>\n",
       "      <th>0</th>\n",
       "      <td>106629de-c125-43a6-a27f-5fbdaccb5f82</td>\n",
       "      <td>458161</td>\n",
       "    </tr>\n",
       "    <tr>\n",
       "      <th>1</th>\n",
       "      <td>121bbaee-5726-4cf7-9eb2-c22102782414</td>\n",
       "      <td>800</td>\n",
       "    </tr>\n",
       "    <tr>\n",
       "      <th>2</th>\n",
       "      <td>1f900c3d-1fd6-46d7-9a15-309a48e397dc</td>\n",
       "      <td>802</td>\n",
       "    </tr>\n",
       "    <tr>\n",
       "      <th>3</th>\n",
       "      <td>2534029c-e85c-4adf-a17b-5027cf25b9c8</td>\n",
       "      <td>2233</td>\n",
       "    </tr>\n",
       "    <tr>\n",
       "      <th>4</th>\n",
       "      <td>3d76f635-29ca-4357-9c46-43669b35ca49</td>\n",
       "      <td>273229</td>\n",
       "    </tr>\n",
       "    <tr>\n",
       "      <th>5</th>\n",
       "      <td>4b2dd1f2-8c74-4a87-a8ed-735ce872d679</td>\n",
       "      <td>1790</td>\n",
       "    </tr>\n",
       "    <tr>\n",
       "      <th>6</th>\n",
       "      <td>5df091ca-31a3-4aab-9551-7d238db7b2d2</td>\n",
       "      <td>2910</td>\n",
       "    </tr>\n",
       "    <tr>\n",
       "      <th>7</th>\n",
       "      <td>702a5945-2416-4aff-b983-1b770bcb95fb</td>\n",
       "      <td>479</td>\n",
       "    </tr>\n",
       "    <tr>\n",
       "      <th>8</th>\n",
       "      <td>70ec36c1-d728-4940-ab57-8cca084b9f1b</td>\n",
       "      <td>240838</td>\n",
       "    </tr>\n",
       "    <tr>\n",
       "      <th>9</th>\n",
       "      <td>7a20c3b1-6eae-444e-a27d-12bc8e5a35ee</td>\n",
       "      <td>4578</td>\n",
       "    </tr>\n",
       "    <tr>\n",
       "      <th>10</th>\n",
       "      <td>7aae603b-1e9d-40d5-a53f-940d6c4a3c7a</td>\n",
       "      <td>17008</td>\n",
       "    </tr>\n",
       "    <tr>\n",
       "      <th>11</th>\n",
       "      <td>7f2d68df-2d4d-40fa-9592-de0bf02cdc47</td>\n",
       "      <td>164</td>\n",
       "    </tr>\n",
       "    <tr>\n",
       "      <th>12</th>\n",
       "      <td>826a63d7-cc36-4c98-a983-abbe71b4282c</td>\n",
       "      <td>920</td>\n",
       "    </tr>\n",
       "    <tr>\n",
       "      <th>13</th>\n",
       "      <td>95f310b5-0d46-4092-b9ec-6eb7f4bf3e10</td>\n",
       "      <td>291388</td>\n",
       "    </tr>\n",
       "    <tr>\n",
       "      <th>14</th>\n",
       "      <td>99f0eb67-eb57-4884-8e6d-ec185fbb1d03</td>\n",
       "      <td>13760</td>\n",
       "    </tr>\n",
       "    <tr>\n",
       "      <th>15</th>\n",
       "      <td>a7670a27-6647-4ea6-9efc-acfb0b1f8552</td>\n",
       "      <td>5679</td>\n",
       "    </tr>\n",
       "    <tr>\n",
       "      <th>16</th>\n",
       "      <td>c256c27b-b8fb-4fda-9f1c-2cbacf143034</td>\n",
       "      <td>1589</td>\n",
       "    </tr>\n",
       "    <tr>\n",
       "      <th>17</th>\n",
       "      <td>c44f8e08-93af-450e-8bc6-2e57e57b946f</td>\n",
       "      <td>18217</td>\n",
       "    </tr>\n",
       "    <tr>\n",
       "      <th>18</th>\n",
       "      <td>c7352191-9865-4131-a357-75afbbf1cd23</td>\n",
       "      <td>2997549</td>\n",
       "    </tr>\n",
       "    <tr>\n",
       "      <th>19</th>\n",
       "      <td>cb6ce5a6-c94f-4e34-8ca4-4d3fd560cf9b</td>\n",
       "      <td>11920</td>\n",
       "    </tr>\n",
       "    <tr>\n",
       "      <th>20</th>\n",
       "      <td>d5e964b0-ed81-475e-aea3-f7e82abd1c1f</td>\n",
       "      <td>72107</td>\n",
       "    </tr>\n",
       "    <tr>\n",
       "      <th>21</th>\n",
       "      <td>d96126a4-5bbf-4fc2-a6f2-d74f5fc7d14b</td>\n",
       "      <td>18002</td>\n",
       "    </tr>\n",
       "    <tr>\n",
       "      <th>22</th>\n",
       "      <td>da14781f-6b4d-47f8-bda0-7e71dc99a90c</td>\n",
       "      <td>2622</td>\n",
       "    </tr>\n",
       "    <tr>\n",
       "      <th>23</th>\n",
       "      <td>da6e4e28-51dd-4101-85a0-2c7c2acf9c28</td>\n",
       "      <td>159</td>\n",
       "    </tr>\n",
       "    <tr>\n",
       "      <th>24</th>\n",
       "      <td>daae1c42-4645-4635-99ff-319053ac0b6f</td>\n",
       "      <td>58712</td>\n",
       "    </tr>\n",
       "    <tr>\n",
       "      <th>25</th>\n",
       "      <td>db0687dc-42a7-4b1a-ad8e-07880e9ea4c0</td>\n",
       "      <td>9312</td>\n",
       "    </tr>\n",
       "    <tr>\n",
       "      <th>26</th>\n",
       "      <td>ddb5a6cd-2421-435e-a8e9-01c7654236c4</td>\n",
       "      <td>162</td>\n",
       "    </tr>\n",
       "    <tr>\n",
       "      <th>27</th>\n",
       "      <td>e3c4c6ba-fc3e-4a6b-aae8-401a1463a5e9</td>\n",
       "      <td>118461</td>\n",
       "    </tr>\n",
       "    <tr>\n",
       "      <th>28</th>\n",
       "      <td>e9e879bc-f6ad-4952-9e17-8e77216858ce</td>\n",
       "      <td>33749</td>\n",
       "    </tr>\n",
       "    <tr>\n",
       "      <th>29</th>\n",
       "      <td>edcf6d95-468b-479a-a660-3489e42a0eb6</td>\n",
       "      <td>2295</td>\n",
       "    </tr>\n",
       "    <tr>\n",
       "      <th>30</th>\n",
       "      <td>f366b750-6274-4719-96a3-ad252d4d893c</td>\n",
       "      <td>43248</td>\n",
       "    </tr>\n",
       "  </tbody>\n",
       "</table>\n",
       "</div>"
      ],
      "text/plain": [
       "                        <user-object-id> <operation-type>\n",
       "0   106629de-c125-43a6-a27f-5fbdaccb5f82           458161\n",
       "1   121bbaee-5726-4cf7-9eb2-c22102782414              800\n",
       "2   1f900c3d-1fd6-46d7-9a15-309a48e397dc              802\n",
       "3   2534029c-e85c-4adf-a17b-5027cf25b9c8             2233\n",
       "4   3d76f635-29ca-4357-9c46-43669b35ca49           273229\n",
       "5   4b2dd1f2-8c74-4a87-a8ed-735ce872d679             1790\n",
       "6   5df091ca-31a3-4aab-9551-7d238db7b2d2             2910\n",
       "7   702a5945-2416-4aff-b983-1b770bcb95fb              479\n",
       "8   70ec36c1-d728-4940-ab57-8cca084b9f1b           240838\n",
       "9   7a20c3b1-6eae-444e-a27d-12bc8e5a35ee             4578\n",
       "10  7aae603b-1e9d-40d5-a53f-940d6c4a3c7a            17008\n",
       "11  7f2d68df-2d4d-40fa-9592-de0bf02cdc47              164\n",
       "12  826a63d7-cc36-4c98-a983-abbe71b4282c              920\n",
       "13  95f310b5-0d46-4092-b9ec-6eb7f4bf3e10           291388\n",
       "14  99f0eb67-eb57-4884-8e6d-ec185fbb1d03            13760\n",
       "15  a7670a27-6647-4ea6-9efc-acfb0b1f8552             5679\n",
       "16  c256c27b-b8fb-4fda-9f1c-2cbacf143034             1589\n",
       "17  c44f8e08-93af-450e-8bc6-2e57e57b946f            18217\n",
       "18  c7352191-9865-4131-a357-75afbbf1cd23          2997549\n",
       "19  cb6ce5a6-c94f-4e34-8ca4-4d3fd560cf9b            11920\n",
       "20  d5e964b0-ed81-475e-aea3-f7e82abd1c1f            72107\n",
       "21  d96126a4-5bbf-4fc2-a6f2-d74f5fc7d14b            18002\n",
       "22  da14781f-6b4d-47f8-bda0-7e71dc99a90c             2622\n",
       "23  da6e4e28-51dd-4101-85a0-2c7c2acf9c28              159\n",
       "24  daae1c42-4645-4635-99ff-319053ac0b6f            58712\n",
       "25  db0687dc-42a7-4b1a-ad8e-07880e9ea4c0             9312\n",
       "26  ddb5a6cd-2421-435e-a8e9-01c7654236c4              162\n",
       "27  e3c4c6ba-fc3e-4a6b-aae8-401a1463a5e9           118461\n",
       "28  e9e879bc-f6ad-4952-9e17-8e77216858ce            33749\n",
       "29  edcf6d95-468b-479a-a660-3489e42a0eb6             2295\n",
       "30  f366b750-6274-4719-96a3-ad252d4d893c            43248"
      ]
     },
     "execution_count": 20,
     "metadata": {},
     "output_type": "execute_result"
    }
   ],
   "source": [
    "objectidtable"
   ]
  },
  {
   "cell_type": "code",
   "execution_count": null,
   "id": "17cb1a6e",
   "metadata": {},
   "outputs": [],
   "source": []
  },
  {
   "cell_type": "code",
   "execution_count": null,
   "id": "99e63ce6",
   "metadata": {},
   "outputs": [],
   "source": []
  },
  {
   "cell_type": "code",
   "execution_count": null,
   "id": "a487b9ca",
   "metadata": {},
   "outputs": [],
   "source": [
    "## Export as csv files ##\n",
    "\n",
    "iptable.to_csv('iptable.csv')\n",
    "objectidtable.to_csv('objectidtable.csv')"
   ]
  },
  {
   "cell_type": "code",
   "execution_count": null,
   "id": "d2b28db1",
   "metadata": {},
   "outputs": [],
   "source": [
    "objectidtable.to_csv('objectidtable.csv')"
   ]
  },
  {
   "cell_type": "code",
   "execution_count": null,
   "id": "6c83c03f",
   "metadata": {},
   "outputs": [],
   "source": []
  },
  {
   "cell_type": "code",
   "execution_count": null,
   "id": "59002883",
   "metadata": {},
   "outputs": [],
   "source": []
  },
  {
   "cell_type": "code",
   "execution_count": null,
   "id": "db6121e9",
   "metadata": {},
   "outputs": [],
   "source": []
  },
  {
   "cell_type": "code",
   "execution_count": null,
   "id": "f80f5490",
   "metadata": {},
   "outputs": [],
   "source": []
  },
  {
   "cell_type": "code",
   "execution_count": null,
   "id": "78ee6f71",
   "metadata": {},
   "outputs": [],
   "source": []
  },
  {
   "cell_type": "code",
   "execution_count": null,
   "id": "6607a721",
   "metadata": {},
   "outputs": [],
   "source": []
  },
  {
   "cell_type": "code",
   "execution_count": null,
   "id": "debe535c",
   "metadata": {},
   "outputs": [],
   "source": [
    "file = open('C:\\\\Users\\\\zoeylan\\\\AAA_Zoey_Working\\\\Cx_Sample_Log\\\\000000Copy10rows.txt', 'r')\n",
    "lines = file.read().splitlines()\n",
    "\n",
    "for line in lines:\n",
    "    if not line:\n",
    "        continue\n",
    "    newline = line.replace(\"&amp;\", \"&\")\n",
    "    newline2 = newline.replace('\"', \"'\")\n",
    "    #print(newline2)\n",
    "    #columns = [col.strip() for col in newline2.split(';') if col]\n",
    "    columns = newline2.split(\";\")\n",
    "    list.append(columns)\n",
    "    print(columns)\n",
    "    #print (line)\n",
    "    # do something\n",
    "#file.close()"
   ]
  },
  {
   "cell_type": "code",
   "execution_count": null,
   "id": "e68ac7a7",
   "metadata": {},
   "outputs": [],
   "source": [
    "for row in list:\n",
    "    for column in row:\n",
    "        if column == '':\n",
    "           # print(type(column))\n",
    "            column = 'nan'\n",
    "            #print(column)\n",
    "            \n",
    "print(list[2:3])"
   ]
  },
  {
   "cell_type": "code",
   "execution_count": null,
   "id": "a12eb8dc",
   "metadata": {},
   "outputs": [],
   "source": [
    "df = pd.DataFrame(list)\n",
    "df = df.rename(columns=df.iloc[0]).drop(df.index[0])"
   ]
  },
  {
   "cell_type": "code",
   "execution_count": null,
   "id": "46397bc5",
   "metadata": {},
   "outputs": [],
   "source": [
    "pd.DataFrame.from_records(list).head(10)"
   ]
  },
  {
   "cell_type": "code",
   "execution_count": null,
   "id": "74de7bbb",
   "metadata": {},
   "outputs": [],
   "source": [
    "pd.set_option('max_columns', None)\n",
    "df.iloc[: 10, :]"
   ]
  },
  {
   "cell_type": "code",
   "execution_count": null,
   "id": "ce7af216",
   "metadata": {},
   "outputs": [],
   "source": [
    "df = df.drop(df.index[df['<operation-count>'] != '0'])"
   ]
  },
  {
   "cell_type": "code",
   "execution_count": null,
   "id": "c0f0a006",
   "metadata": {},
   "outputs": [],
   "source": [
    "df.iloc[: 3, : 40]"
   ]
  },
  {
   "cell_type": "code",
   "execution_count": null,
   "id": "7b95c03b",
   "metadata": {},
   "outputs": [],
   "source": [
    "print(df.shape)"
   ]
  },
  {
   "cell_type": "code",
   "execution_count": null,
   "id": "02160a48",
   "metadata": {},
   "outputs": [],
   "source": [
    "print(df['<user-object-id>'].drop_duplicates())"
   ]
  },
  {
   "cell_type": "code",
   "execution_count": null,
   "id": "bbff1c09",
   "metadata": {},
   "outputs": [],
   "source": [
    "# filter out write operation - appendFile\n",
    "#WriteOperation = df[df['<operation-type>'] == 'AppendFile']\n",
    "wo = df[['<operation-type>', '<request-version-header>']]\n",
    "\n",
    "WriteOperation = wo[wo['<operation-type>'] == 'AppendFile']\n",
    "#WriteOperation.head(10)"
   ]
  },
  {
   "cell_type": "code",
   "execution_count": null,
   "id": "b7aed033",
   "metadata": {},
   "outputs": [],
   "source": [
    "unique = WriteOperation.drop_duplicates()\n",
    "unique"
   ]
  },
  {
   "cell_type": "code",
   "execution_count": null,
   "id": "a91e2781",
   "metadata": {},
   "outputs": [],
   "source": [
    "print(unique.shape)"
   ]
  },
  {
   "cell_type": "code",
   "execution_count": null,
   "id": "b2915f12",
   "metadata": {},
   "outputs": [],
   "source": [
    "txt = \"2.0;2022-03-30T06:00:00.0000042Z;ReadFile;OAuthSuccess;200;16;16;bearer;phkprdeaspcommadls;phkprdeaspcommadls;blob;'https://phkprdeaspcommadls.dfs.core.windows.net/curatedzone/trafix_lite%2Fcsc%2Fcsc_traffic_count_trafixlite%2FBlock3_20171020.csv';'/phkprdeaspcommadls/curatedzone/trafix_lite/csc/csc_traffic_count_trafixlite/Block3_20171020.csv';03db8f00-e01f-003a-03fb-43e379000000;0;10.227.133.17;2018-11-09;1828;0;350;1098;0;;;'gzip';Monday, 15-Mar-21 06:14:17 GMT;;'Go/go1.16.8 (amd64-linux) go-autorest/v14.2.1 Azure-SDK-For-Go/v32.1.0 storagedatalake/2018-11-09';;'a7dbd65d-45ae-49a5-a667-2b9636fb3a35';'e3c4c6ba-fc3e-4a6b-aae8-401a1463a5e9';'33893f4e-3397-4cab-bb3c-9224bf7eafba';'67c60ae1-57cd-4296-be33-ce1f6f7b3636';'https://storage.azure.com/';'https://sts.windows.net/33893f4e-3397-4cab-bb3c-9224bf7eafba/';;;'[{&quot;action&quot;:&quot;Microsoft.Storage/storageAccounts/blobServices/containers/blobs/read&quot;, &quot;roleAssignmentId&quot;:&quot;&quot;, &quot;roleDefinitionId&quot;:&quot;&quot;, &quot;principals&quot;: [], &quot;denyAssignmentId&quot;:&quot;&quot;}]'\"\n",
    "\n",
    "x = txt.split(\";\")\n",
    "\n",
    "print(x)\n"
   ]
  },
  {
   "cell_type": "code",
   "execution_count": null,
   "id": "10aaaee7",
   "metadata": {},
   "outputs": [],
   "source": [
    "new = ['p','q','r']\n",
    "my_str = 'there are two much person a, person b, person c.'\n",
    "old = ['a','b','c']\n",
    "\n",
    "for i in range(len(old)):\n",
    "    my_str = my_str.replace(old[i],new[i])\n",
    "\n",
    "print(my_str)"
   ]
  },
  {
   "cell_type": "code",
   "execution_count": null,
   "id": "ddd106af",
   "metadata": {},
   "outputs": [],
   "source": []
  }
 ],
 "metadata": {
  "kernelspec": {
   "display_name": "Python 3 (ipykernel)",
   "language": "python",
   "name": "python3"
  },
  "language_info": {
   "codemirror_mode": {
    "name": "ipython",
    "version": 3
   },
   "file_extension": ".py",
   "mimetype": "text/x-python",
   "name": "python",
   "nbconvert_exporter": "python",
   "pygments_lexer": "ipython3",
   "version": "3.9.7"
  }
 },
 "nbformat": 4,
 "nbformat_minor": 5
}
